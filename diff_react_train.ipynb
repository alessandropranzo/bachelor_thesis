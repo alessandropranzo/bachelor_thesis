{
 "cells": [
  {
   "cell_type": "code",
   "execution_count": null,
   "metadata": {},
   "outputs": [],
   "source": [
    "from diffusion_reaction import DiffReactNN, make_fwd_inv_fn, make_diff_react_loss\n",
    "\n",
    "import torch\n",
    "import torchopt\n",
    "from tqdm import tqdm"
   ]
  },
  {
   "cell_type": "code",
   "execution_count": null,
   "metadata": {},
   "outputs": [],
   "source": [
    "#Data to initialize\n",
    "x_domain = (0, 1)\n",
    "learning_rate = 0.01\n",
    "n_epochs = 10000\n",
    "batch_size = 10"
   ]
  },
  {
   "cell_type": "code",
   "execution_count": null,
   "metadata": {},
   "outputs": [],
   "source": [
    "#Model and functional setup\n",
    "diff_react_model = DiffReactNN()\n",
    "fn = make_fwd_inv_fn(diff_react_model)\n",
    "#Loss function\n",
    "diff_react_loss = make_diff_react_loss(fn)\n",
    "#Adam Optimizer\n",
    "optimizer = torchopt.FuncOptimizer(torchopt.adam(lr=learning_rate))\n",
    "\n",
    "params = tuple(diff_react_model.parameters())"
   ]
  },
  {
   "cell_type": "code",
   "execution_count": null,
   "metadata": {},
   "outputs": [],
   "source": [
    "#Defining the training process\n",
    "loss_evolution = []\n",
    "\n",
    "for epoch in tqdm(range(n_epochs)):\n",
    "    #Let's start with a uniform distribution of the data \n",
    "    x = torch.FloatTensor(batch_size, 1).uniform_(x_domain[0], x_domain[1])\n",
    "\n",
    "    #We compute the loss\n",
    "    loss = diff_react_loss(x, params)\n",
    "    #Update the parameters with the functional optimizer\n",
    "    params = optimizer.step(loss, params)\n",
    "    #Keeping track of the loss\n",
    "    loss_evolution.append(float(loss))"
   ]
  },
  {
   "cell_type": "code",
   "execution_count": null,
   "metadata": {},
   "outputs": [],
   "source": [
    "import matplotlib.pyplot as plt\n",
    "\n",
    "\n",
    "plt.figure(figsize=(10, 6))\n",
    "plt.plot(range(1, n_epochs + 1), loss_evolution, linestyle='-')\n",
    "plt.title('Loss Evolution Over Time')\n",
    "plt.xlabel('Epoch')\n",
    "plt.ylabel('Loss')\n",
    "plt.grid(True)\n",
    "plt.show()"
   ]
  },
  {
   "cell_type": "code",
   "execution_count": null,
   "metadata": {},
   "outputs": [],
   "source": [
    "#Data to initialize\n",
    "x_domain = (0, 1)\n",
    "learning_rate = 0.01\n",
    "n_epochs = 2000\n",
    "batch_size = 10"
   ]
  },
  {
   "cell_type": "code",
   "execution_count": null,
   "metadata": {},
   "outputs": [],
   "source": [
    "#Model and functional setup\n",
    "diff_react_model_2 = DiffReactNN([1, 10, 10, 10, 2])\n",
    "fn_2 = make_fwd_inv_fn(diff_react_model_2)\n",
    "#Loss function\n",
    "diff_react_loss_2 = make_diff_react_loss(fn_2)\n",
    "#Adam Optimizer\n",
    "optimizer_2 = torchopt.FuncOptimizer(torchopt.adam(lr=learning_rate))\n",
    "\n",
    "params_2 = tuple(diff_react_model_2.parameters())"
   ]
  },
  {
   "cell_type": "code",
   "execution_count": null,
   "metadata": {},
   "outputs": [],
   "source": [
    "#Defining the training process\n",
    "loss_evolution_2 = [0]\n",
    "\n",
    "for epoch in tqdm(range(n_epochs), desc= \"Training Process: \", unit = \"epochs\"):\n",
    "    #Let's start with a uniform distribution of the data \n",
    "    x = torch.FloatTensor(batch_size, 1).uniform_(x_domain[0], x_domain[1])\n",
    "\n",
    "    #We compute the loss\n",
    "    loss = diff_react_loss_2(x, params_2)\n",
    "    #Update the parameters with the functional optimizer\n",
    "    params_2 = optimizer_2.step(loss, params_2)\n",
    "    #Keeping track of the loss\n",
    "    loss_evolution_2.append(float(loss))"
   ]
  },
  {
   "cell_type": "code",
   "execution_count": null,
   "metadata": {},
   "outputs": [],
   "source": [
    "import matplotlib.pyplot as plt\n",
    "\n",
    "\n",
    "plt.figure(figsize=(10, 6))\n",
    "plt.plot(range(1, len(loss_evolution_2) + 1), loss_evolution_2, linestyle='-')\n",
    "plt.title('Loss Evolution Over Time')\n",
    "plt.xlabel('Epoch')\n",
    "plt.ylabel('Loss')\n",
    "plt.grid(True)\n",
    "plt.show()"
   ]
  },
  {
   "cell_type": "code",
   "execution_count": null,
   "metadata": {},
   "outputs": [],
   "source": []
  }
 ],
 "metadata": {
  "kernelspec": {
   "display_name": "Python 3",
   "language": "python",
   "name": "python3"
  },
  "language_info": {
   "codemirror_mode": {
    "name": "ipython",
    "version": 3
   },
   "file_extension": ".py",
   "mimetype": "text/x-python",
   "name": "python",
   "nbconvert_exporter": "python",
   "pygments_lexer": "ipython3",
   "version": "3.11.2"
  }
 },
 "nbformat": 4,
 "nbformat_minor": 2
}
