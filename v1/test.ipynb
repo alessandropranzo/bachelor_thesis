{
 "cells": [
  {
   "cell_type": "code",
   "execution_count": 30,
   "metadata": {},
   "outputs": [],
   "source": [
    "from diffusion_reaction import DiffReactNN\n",
    "\n",
    "import torch\n",
    "import torchopt\n",
    "from tqdm import tqdm"
   ]
  },
  {
   "cell_type": "code",
   "execution_count": 31,
   "metadata": {},
   "outputs": [],
   "source": [
    "from torch.func import functional_call, grad, vmap\n",
    "from torch import nn\n",
    "\n",
    "from collections import OrderedDict\n",
    "from typing import Callable\n",
    "\n",
    "from utils import tuple_2_dict\n",
    "from pdes import inversed_k, inversed_u    "
   ]
  },
  {
   "cell_type": "code",
   "execution_count": 32,
   "metadata": {},
   "outputs": [],
   "source": [
    "def make_fwd_inv_fn(model: nn.Module):\n",
    "\n",
    "    def fn(x: torch.Tensor, params: dict[str, nn.Parameter] | tuple[nn.Parameter]) -> Callable:\n",
    "        if isinstance(params, tuple):\n",
    "            params_dict = tuple_2_dict(model, params)\n",
    "        else:\n",
    "            params_dict = params  \n",
    "\n",
    "        return functional_call(model, params_dict, (x, )).squeeze()\n",
    "    \n",
    "    return fn"
   ]
  },
  {
   "cell_type": "code",
   "execution_count": 33,
   "metadata": {},
   "outputs": [],
   "source": [
    "#Let's define the differentiable part of the the function u(x)\n",
    "def u_diff(x, params):\n",
    "    return fn(x, params)[0]\n",
    "\n",
    "#Defining the first derivative w.r.t. x (note that it is not vmapped since it will be used by the second derivative)\n",
    "def dudx(x: torch.Tensor, params: torch.Tensor):\n",
    "    return grad(u_diff)(x, params).squeeze()\n",
    "\n",
    "def dudx_v(x: torch.Tensor, params: torch.Tensor):\n",
    "    return vmap(dudx, in_dims=(0, None))(x, params).squeeze()\n",
    "\n",
    "#Defining the second derivative w.r.t. x\n",
    "def d2udx2(x: torch.Tensor, params: torch.Tensor):\n",
    "    return vmap(grad(dudx), in_dims=(0, None))(x, params).squeeze()"
   ]
  },
  {
   "cell_type": "code",
   "execution_count": 34,
   "metadata": {},
   "outputs": [],
   "source": [
    "#Data to initialize\n",
    "x_domain = (0, 1)\n",
    "learning_rate = 0.01\n",
    "n_epochs = 1000\n",
    "batch_size = 20"
   ]
  },
  {
   "cell_type": "code",
   "execution_count": 35,
   "metadata": {},
   "outputs": [],
   "source": [
    "#Model setup\n",
    "diff_react_model = DiffReactNN()\n",
    "params = tuple(diff_react_model.parameters())"
   ]
  },
  {
   "cell_type": "code",
   "execution_count": 36,
   "metadata": {},
   "outputs": [],
   "source": [
    "fn = make_fwd_inv_fn(diff_react_model)"
   ]
  },
  {
   "cell_type": "code",
   "execution_count": 37,
   "metadata": {},
   "outputs": [],
   "source": [
    "x = torch.FloatTensor(batch_size, 1).uniform_(x_domain[0], x_domain[1])"
   ]
  },
  {
   "cell_type": "code",
   "execution_count": 89,
   "metadata": {},
   "outputs": [],
   "source": [
    "def make_diff_react_loss(fn: Callable) -> Callable:\n",
    "    \n",
    "    #This is the standard forward function\n",
    "    def u(x: torch.Tensor, params: dict[str, nn.Parameter] | tuple[nn.Parameter]) -> Callable:\n",
    "        return fn(x, params)[:, 0].squeeze() #Take the first entry\n",
    "    \n",
    "    #This is the target inverse function (related to the raction coefficient)\n",
    "    def k(x: torch.Tensor, params: dict[str, nn.Parameter] | tuple[nn.Parameter]) -> Callable:\n",
    "        return fn(x, params)[:, 1].squeeze() #Take the second entry\n",
    "\n",
    "    def diff_react_loss(x: torch.Tensor, params: torch.Tensor):\n",
    "        loss = nn.MSELoss()\n",
    "        u_value = u(x, params)\n",
    "        real_u_value = inversed_u(x)\n",
    "        k_value = k(x, params)\n",
    "        real_k_value = inversed_k(x)\n",
    "        print(f\"u_value:{u_value.dtype}, real_u_value: {real_u_value.dtype}, k_value:{k_value.dtype}, real_k_value: {real_k_value.dtype}\")\n",
    "        data_loss = loss(u_value, real_u_value) + loss(k_value, real_k_value)\n",
    "        data_loss = data_loss\n",
    "        f_value = torch.sin(2 * torch.pi * x).squeeze() + k(x, params) * u(x, params) - 0.01 * d2udx2(x, params)\n",
    "        physics_loss = loss(f_value, torch.zeros_like(f_value))\n",
    "        return data_loss + physics_loss\n",
    "\n",
    "    return diff_react_loss"
   ]
  },
  {
   "cell_type": "code",
   "execution_count": 90,
   "metadata": {},
   "outputs": [],
   "source": [
    "diff_react_loss = make_diff_react_loss(fn)"
   ]
  },
  {
   "cell_type": "code",
   "execution_count": 91,
   "metadata": {},
   "outputs": [
    {
     "name": "stdout",
     "output_type": "stream",
     "text": [
      "u_value:torch.float32, real_u_value: torch.float64, k_value:torch.float32, real_k_value: torch.float32\n"
     ]
    },
    {
     "data": {
      "text/plain": [
       "tensor(0.0263, dtype=torch.float64, grad_fn=<AddBackward0>)"
      ]
     },
     "execution_count": 91,
     "metadata": {},
     "output_type": "execute_result"
    }
   ],
   "source": [
    "diff_react_loss(x, params)"
   ]
  },
  {
   "cell_type": "code",
   "execution_count": 82,
   "metadata": {},
   "outputs": [],
   "source": [
    "result = fn(x, params)"
   ]
  },
  {
   "cell_type": "code",
   "execution_count": 83,
   "metadata": {},
   "outputs": [],
   "source": [
    "optimizer = torchopt.FuncOptimizer(torchopt.adam(lr=learning_rate))"
   ]
  },
  {
   "cell_type": "code",
   "execution_count": 84,
   "metadata": {},
   "outputs": [
    {
     "name": "stderr",
     "output_type": "stream",
     "text": [
      "  1%|          | 9/1000 [00:00<00:22, 44.58it/s]"
     ]
    },
    {
     "name": "stdout",
     "output_type": "stream",
     "text": [
      "torch.float32\n",
      "Loss type: torch.float32\n",
      "torch.float32\n",
      "Loss type: torch.float32\n",
      "torch.float32\n",
      "Loss type: torch.float32\n",
      "torch.float32\n",
      "Loss type: torch.float32\n",
      "torch.float32\n",
      "Loss type: torch.float32\n",
      "torch.float32\n",
      "Loss type: torch.float32\n",
      "torch.float32\n",
      "Loss type: torch.float32\n",
      "torch.float32\n",
      "Loss type: torch.float32\n",
      "torch.float32\n",
      "Loss type: torch.float32\n",
      "torch.float32\n"
     ]
    },
    {
     "name": "stderr",
     "output_type": "stream",
     "text": [
      "  2%|▏         | 15/1000 [00:00<00:20, 47.66it/s]"
     ]
    },
    {
     "name": "stdout",
     "output_type": "stream",
     "text": [
      "Loss type: torch.float32\n",
      "torch.float32\n",
      "Loss type: torch.float32\n",
      "torch.float32\n",
      "Loss type: torch.float32\n",
      "torch.float32\n",
      "Loss type: torch.float32\n",
      "torch.float32\n",
      "Loss type: torch.float32\n",
      "torch.float32\n",
      "Loss type: torch.float32\n",
      "torch.float32\n",
      "Loss type: torch.float32\n",
      "torch.float32\n",
      "Loss type: torch.float32\n",
      "torch.float32\n",
      "Loss type: torch.float32\n",
      "torch.float32\n",
      "Loss type: torch.float32\n",
      "torch.float32\n",
      "Loss type: torch.float32\n",
      "torch.float32\n"
     ]
    },
    {
     "name": "stderr",
     "output_type": "stream",
     "text": [
      "  3%|▎         | 26/1000 [00:00<00:20, 46.52it/s]"
     ]
    },
    {
     "name": "stdout",
     "output_type": "stream",
     "text": [
      "Loss type: torch.float32\n",
      "torch.float32\n",
      "Loss type: torch.float32\n",
      "torch.float32\n",
      "Loss type: torch.float32\n",
      "torch.float32\n",
      "Loss type: torch.float32\n",
      "torch.float32\n",
      "Loss type: torch.float32\n",
      "torch.float32\n",
      "Loss type: torch.float32\n",
      "torch.float32\n",
      "Loss type: torch.float32\n",
      "torch.float32\n",
      "Loss type: torch.float32\n",
      "torch.float32\n",
      "Loss type: torch.float32\n",
      "torch.float32\n",
      "Loss type: torch.float32\n"
     ]
    },
    {
     "name": "stderr",
     "output_type": "stream",
     "text": [
      "  4%|▎         | 36/1000 [00:00<00:21, 45.39it/s]"
     ]
    },
    {
     "name": "stdout",
     "output_type": "stream",
     "text": [
      "torch.float32\n",
      "Loss type: torch.float32\n",
      "torch.float32\n",
      "Loss type: torch.float32\n",
      "torch.float32\n",
      "Loss type: torch.float32\n",
      "torch.float32\n",
      "Loss type: torch.float32\n",
      "torch.float32\n",
      "Loss type: torch.float32\n",
      "torch.float32\n",
      "Loss type: torch.float32\n",
      "torch.float32\n",
      "Loss type: torch.float32\n",
      "torch.float32\n",
      "Loss type: torch.float32\n",
      "torch.float32\n",
      "Loss type: torch.float32\n"
     ]
    },
    {
     "name": "stderr",
     "output_type": "stream",
     "text": [
      "  5%|▍         | 47/1000 [00:01<00:19, 47.88it/s]"
     ]
    },
    {
     "name": "stdout",
     "output_type": "stream",
     "text": [
      "torch.float32\n",
      "Loss type: torch.float32\n",
      "torch.float32\n",
      "Loss type: torch.float32\n",
      "torch.float32\n",
      "Loss type: torch.float32\n",
      "torch.float32\n",
      "Loss type: torch.float32\n",
      "torch.float32\n",
      "Loss type: torch.float32\n",
      "torch.float32\n",
      "Loss type: torch.float32\n",
      "torch.float32\n",
      "Loss type: torch.float32\n",
      "torch.float32\n",
      "Loss type: torch.float32\n",
      "torch.float32\n",
      "Loss type: torch.float32\n",
      "torch.float32\n",
      "Loss type: torch.float32\n"
     ]
    },
    {
     "name": "stderr",
     "output_type": "stream",
     "text": [
      "  6%|▌         | 58/1000 [00:01<00:19, 49.27it/s]"
     ]
    },
    {
     "name": "stdout",
     "output_type": "stream",
     "text": [
      "torch.float32\n",
      "Loss type: torch.float32\n",
      "torch.float32\n",
      "Loss type: torch.float32\n",
      "torch.float32\n",
      "Loss type: torch.float32\n",
      "torch.float32\n",
      "Loss type: torch.float32\n",
      "torch.float32\n",
      "Loss type: torch.float32\n",
      "torch.float32\n",
      "Loss type: torch.float32\n",
      "torch.float32\n",
      "Loss type: torch.float32\n",
      "torch.float32\n",
      "Loss type: torch.float32\n",
      "torch.float32\n",
      "Loss type: torch.float32\n",
      "torch.float32\n",
      "Loss type: torch.float32\n"
     ]
    },
    {
     "name": "stderr",
     "output_type": "stream",
     "text": [
      "  7%|▋         | 69/1000 [00:01<00:18, 50.74it/s]"
     ]
    },
    {
     "name": "stdout",
     "output_type": "stream",
     "text": [
      "torch.float32\n",
      "Loss type: torch.float32\n",
      "torch.float32\n",
      "Loss type: torch.float32\n",
      "torch.float32\n",
      "Loss type: torch.float32\n",
      "torch.float32\n",
      "Loss type: torch.float32\n",
      "torch.float32\n",
      "Loss type: torch.float32\n",
      "torch.float32\n",
      "Loss type: torch.float32\n",
      "torch.float32\n",
      "Loss type: torch.float32\n",
      "torch.float32\n",
      "Loss type: torch.float32\n",
      "torch.float32\n",
      "Loss type: torch.float32\n",
      "torch.float32\n",
      "Loss type: torch.float32\n",
      "torch.float32\n"
     ]
    },
    {
     "name": "stderr",
     "output_type": "stream",
     "text": [
      "  8%|▊         | 75/1000 [00:01<00:18, 50.70it/s]"
     ]
    },
    {
     "name": "stdout",
     "output_type": "stream",
     "text": [
      "Loss type: torch.float32\n",
      "torch.float32\n",
      "Loss type: torch.float32\n",
      "torch.float32\n",
      "Loss type: torch.float32\n",
      "torch.float32\n",
      "Loss type: torch.float32\n",
      "torch.float32\n",
      "Loss type: torch.float32\n",
      "torch.float32\n",
      "Loss type: torch.float32\n",
      "torch.float32\n",
      "Loss type: torch.float32\n",
      "torch.float32\n",
      "Loss type: torch.float32\n",
      "torch.float32\n",
      "Loss type: torch.float32\n",
      "torch.float32\n",
      "Loss type: torch.float32\n",
      "torch.float32\n",
      "Loss type: torch.float32\n",
      "torch.float32\n",
      "Loss type: torch.float32\n"
     ]
    },
    {
     "name": "stderr",
     "output_type": "stream",
     "text": [
      "  9%|▊         | 86/1000 [00:01<00:25, 36.20it/s]"
     ]
    },
    {
     "name": "stdout",
     "output_type": "stream",
     "text": [
      "torch.float32\n",
      "Loss type: torch.float32\n",
      "torch.float32\n",
      "Loss type: torch.float32\n",
      "torch.float32\n",
      "Loss type: torch.float32\n",
      "torch.float32\n",
      "Loss type: torch.float32\n",
      "torch.float32\n",
      "Loss type: torch.float32\n",
      "torch.float32\n",
      "Loss type: torch.float32\n",
      "torch.float32\n",
      "Loss type: torch.float32\n",
      "torch.float32\n",
      "Loss type: torch.float32\n",
      "torch.float32\n",
      "Loss type: torch.float32\n",
      "torch.float32\n",
      "Loss type: torch.float32\n",
      "torch.float32\n",
      "Loss type: torch.float32\n",
      "torch.float32\n"
     ]
    },
    {
     "name": "stderr",
     "output_type": "stream",
     "text": [
      " 10%|▉         | 99/1000 [00:02<00:20, 44.27it/s]"
     ]
    },
    {
     "name": "stdout",
     "output_type": "stream",
     "text": [
      "Loss type: torch.float32\n",
      "torch.float32\n",
      "Loss type: torch.float32\n",
      "torch.float32\n",
      "Loss type: torch.float32\n",
      "torch.float32\n",
      "Loss type: torch.float32\n",
      "torch.float32\n",
      "Loss type: torch.float32\n",
      "torch.float32\n",
      "Loss type: torch.float32\n",
      "torch.float32\n",
      "Loss type: torch.float32\n",
      "torch.float32\n",
      "Loss type: torch.float32\n",
      "torch.float32\n",
      "Loss type: torch.float32\n",
      "torch.float32\n",
      "Loss type: torch.float32\n",
      "torch.float32\n",
      "Loss type: torch.float32\n",
      "torch.float32\n"
     ]
    },
    {
     "name": "stderr",
     "output_type": "stream",
     "text": [
      " 11%|█         | 112/1000 [00:02<00:18, 48.41it/s]"
     ]
    },
    {
     "name": "stdout",
     "output_type": "stream",
     "text": [
      "Loss type: torch.float32\n",
      "torch.float32\n",
      "Loss type: torch.float32\n",
      "torch.float32\n",
      "Loss type: torch.float32\n",
      "torch.float32\n",
      "Loss type: torch.float32\n",
      "torch.float32\n",
      "Loss type: torch.float32\n",
      "torch.float32\n",
      "Loss type: torch.float32\n",
      "torch.float32\n",
      "Loss type: torch.float32\n",
      "torch.float32\n",
      "Loss type: torch.float32\n",
      "torch.float32\n",
      "Loss type: torch.float32\n",
      "torch.float32\n",
      "Loss type: torch.float32\n",
      "torch.float32\n"
     ]
    },
    {
     "name": "stderr",
     "output_type": "stream",
     "text": [
      " 12%|█▏        | 118/1000 [00:02<00:18, 47.13it/s]"
     ]
    },
    {
     "name": "stdout",
     "output_type": "stream",
     "text": [
      "Loss type: torch.float32\n",
      "torch.float32\n",
      "Loss type: torch.float32\n",
      "torch.float32\n",
      "Loss type: torch.float32\n",
      "torch.float32\n",
      "Loss type: torch.float32\n",
      "torch.float32\n",
      "Loss type: torch.float32\n",
      "torch.float32\n",
      "Loss type: torch.float32\n",
      "torch.float32\n",
      "Loss type: torch.float32\n",
      "torch.float32\n",
      "Loss type: torch.float32\n",
      "torch.float32\n",
      "Loss type: torch.float32\n",
      "torch.float32\n",
      "Loss type: torch.float32\n",
      "torch.float32\n",
      "Loss type: torch.float32\n"
     ]
    },
    {
     "name": "stderr",
     "output_type": "stream",
     "text": [
      " 13%|█▎        | 130/1000 [00:02<00:19, 43.52it/s]"
     ]
    },
    {
     "name": "stdout",
     "output_type": "stream",
     "text": [
      "torch.float32\n",
      "Loss type: torch.float32\n",
      "torch.float32\n",
      "Loss type: torch.float32\n",
      "torch.float32\n",
      "Loss type: torch.float32\n",
      "torch.float32\n",
      "Loss type: torch.float32\n",
      "torch.float32\n",
      "Loss type: torch.float32\n",
      "torch.float32\n",
      "Loss type: torch.float32\n",
      "torch.float32\n",
      "Loss type: torch.float32\n",
      "torch.float32\n"
     ]
    },
    {
     "name": "stderr",
     "output_type": "stream",
     "text": [
      " 14%|█▎        | 136/1000 [00:02<00:18, 46.37it/s]"
     ]
    },
    {
     "name": "stdout",
     "output_type": "stream",
     "text": [
      "Loss type: torch.float32\n",
      "torch.float32\n",
      "Loss type: torch.float32\n",
      "torch.float32\n",
      "Loss type: torch.float32\n",
      "torch.float32\n",
      "Loss type: torch.float32\n",
      "torch.float32\n",
      "Loss type: torch.float32\n",
      "torch.float32\n",
      "Loss type: torch.float32\n",
      "torch.float32\n",
      "Loss type: torch.float32\n",
      "torch.float32\n",
      "Loss type: torch.float32\n",
      "torch.float32\n",
      "Loss type: torch.float32\n",
      "torch.float32\n",
      "Loss type: torch.float32\n"
     ]
    },
    {
     "name": "stderr",
     "output_type": "stream",
     "text": [
      " 15%|█▍        | 147/1000 [00:03<00:18, 46.93it/s]"
     ]
    },
    {
     "name": "stdout",
     "output_type": "stream",
     "text": [
      "torch.float32\n",
      "Loss type: torch.float32\n",
      "torch.float32\n",
      "Loss type: torch.float32\n",
      "torch.float32\n",
      "Loss type: torch.float32\n",
      "torch.float32\n",
      "Loss type: torch.float32\n",
      "torch.float32\n",
      "Loss type: torch.float32\n",
      "torch.float32\n",
      "Loss type: torch.float32\n",
      "torch.float32\n",
      "Loss type: torch.float32\n",
      "torch.float32\n",
      "Loss type: torch.float32\n",
      "torch.float32\n",
      "Loss type: torch.float32\n",
      "torch.float32\n",
      "Loss type: torch.float32\n",
      "torch.float32\n",
      "Loss type: torch.float32\n",
      "torch.float32\n"
     ]
    },
    {
     "name": "stderr",
     "output_type": "stream",
     "text": [
      " 16%|█▌        | 160/1000 [00:03<00:18, 46.25it/s]"
     ]
    },
    {
     "name": "stdout",
     "output_type": "stream",
     "text": [
      "Loss type: torch.float32\n",
      "torch.float32\n",
      "Loss type: torch.float32\n",
      "torch.float32\n",
      "Loss type: torch.float32\n",
      "torch.float32\n",
      "Loss type: torch.float32\n",
      "torch.float32\n",
      "Loss type: torch.float32\n",
      "torch.float32\n",
      "Loss type: torch.float32\n",
      "torch.float32\n",
      "Loss type: torch.float32\n",
      "torch.float32\n",
      "Loss type: torch.float32\n",
      "torch.float32\n",
      "Loss type: torch.float32\n",
      "torch.float32\n"
     ]
    },
    {
     "name": "stderr",
     "output_type": "stream",
     "text": [
      " 17%|█▋        | 172/1000 [00:03<00:16, 50.80it/s]"
     ]
    },
    {
     "name": "stdout",
     "output_type": "stream",
     "text": [
      "Loss type: torch.float32\n",
      "torch.float32\n",
      "Loss type: torch.float32\n",
      "torch.float32\n",
      "Loss type: torch.float32\n",
      "torch.float32\n",
      "Loss type: torch.float32\n",
      "torch.float32\n",
      "Loss type: torch.float32\n",
      "torch.float32\n",
      "Loss type: torch.float32\n",
      "torch.float32\n",
      "Loss type: torch.float32\n",
      "torch.float32\n",
      "Loss type: torch.float32\n",
      "torch.float32\n",
      "Loss type: torch.float32\n",
      "torch.float32\n",
      "Loss type: torch.float32\n",
      "torch.float32\n",
      "Loss type: torch.float32\n",
      "torch.float32\n",
      "Loss type: torch.float32\n",
      "torch.float32\n"
     ]
    },
    {
     "name": "stderr",
     "output_type": "stream",
     "text": [
      " 18%|█▊        | 178/1000 [00:03<00:16, 50.78it/s]"
     ]
    },
    {
     "name": "stdout",
     "output_type": "stream",
     "text": [
      "Loss type: torch.float32\n",
      "torch.float32\n",
      "Loss type: torch.float32\n",
      "torch.float32\n",
      "Loss type: torch.float32\n",
      "torch.float32\n",
      "Loss type: torch.float32\n",
      "torch.float32\n",
      "Loss type: torch.float32\n",
      "torch.float32\n",
      "Loss type: torch.float32\n",
      "torch.float32\n",
      "Loss type: torch.float32\n",
      "torch.float32\n",
      "Loss type: torch.float32\n",
      "torch.float32\n",
      "Loss type: torch.float32\n",
      "torch.float32\n",
      "Loss type: torch.float32\n",
      "torch.float32\n"
     ]
    },
    {
     "name": "stderr",
     "output_type": "stream",
     "text": [
      " 19%|█▉        | 190/1000 [00:04<00:16, 49.30it/s]"
     ]
    },
    {
     "name": "stdout",
     "output_type": "stream",
     "text": [
      "Loss type: torch.float32\n",
      "torch.float32\n",
      "Loss type: torch.float32\n",
      "torch.float32\n",
      "Loss type: torch.float32\n",
      "torch.float32\n",
      "Loss type: torch.float32\n",
      "torch.float32\n",
      "Loss type: torch.float32\n",
      "torch.float32\n",
      "Loss type: torch.float32\n",
      "torch.float32\n",
      "Loss type: torch.float32\n",
      "torch.float32\n",
      "Loss type: torch.float32\n",
      "torch.float32\n",
      "Loss type: torch.float32\n",
      "torch.float32\n",
      "Loss type: torch.float32\n",
      "torch.float32\n",
      "Loss type: torch.float32\n"
     ]
    },
    {
     "name": "stderr",
     "output_type": "stream",
     "text": [
      " 20%|█▉        | 196/1000 [00:04<00:15, 51.13it/s]"
     ]
    },
    {
     "name": "stdout",
     "output_type": "stream",
     "text": [
      "torch.float32\n",
      "Loss type: torch.float32\n",
      "torch.float32\n",
      "Loss type: torch.float32\n",
      "torch.float32\n",
      "Loss type: torch.float32\n",
      "torch.float32\n",
      "Loss type: torch.float32\n",
      "torch.float32\n",
      "Loss type: torch.float32\n",
      "torch.float32\n"
     ]
    },
    {
     "name": "stderr",
     "output_type": "stream",
     "text": [
      " 20%|██        | 202/1000 [00:04<00:23, 33.29it/s]"
     ]
    },
    {
     "name": "stdout",
     "output_type": "stream",
     "text": [
      "Loss type: torch.float32\n",
      "torch.float32\n",
      "Loss type: torch.float32\n",
      "torch.float32\n",
      "Loss type: torch.float32\n",
      "torch.float32\n",
      "Loss type: torch.float32\n",
      "torch.float32\n",
      "Loss type: torch.float32\n",
      "torch.float32\n",
      "Loss type: torch.float32\n",
      "torch.float32\n",
      "Loss type: torch.float32\n"
     ]
    },
    {
     "name": "stderr",
     "output_type": "stream",
     "text": [
      " 21%|██        | 212/1000 [00:04<00:21, 37.48it/s]"
     ]
    },
    {
     "name": "stdout",
     "output_type": "stream",
     "text": [
      "torch.float32\n",
      "Loss type: torch.float32\n",
      "torch.float32\n",
      "Loss type: torch.float32\n",
      "torch.float32\n",
      "Loss type: torch.float32\n",
      "torch.float32\n",
      "Loss type: torch.float32\n",
      "torch.float32\n",
      "Loss type: torch.float32\n",
      "torch.float32\n",
      "Loss type: torch.float32\n",
      "torch.float32\n",
      "Loss type: torch.float32\n",
      "torch.float32\n",
      "Loss type: torch.float32\n",
      "torch.float32\n",
      "Loss type: torch.float32\n",
      "torch.float32\n",
      "Loss type: torch.float32\n",
      "torch.float32\n",
      "Loss type: torch.float32\n",
      "torch.float32\n"
     ]
    },
    {
     "name": "stderr",
     "output_type": "stream",
     "text": [
      " 22%|██▎       | 225/1000 [00:04<00:16, 45.70it/s]"
     ]
    },
    {
     "name": "stdout",
     "output_type": "stream",
     "text": [
      "Loss type: torch.float32\n",
      "torch.float32\n",
      "Loss type: torch.float32\n",
      "torch.float32\n",
      "Loss type: torch.float32\n",
      "torch.float32\n",
      "Loss type: torch.float32\n",
      "torch.float32\n",
      "Loss type: torch.float32\n",
      "torch.float32\n",
      "Loss type: torch.float32\n",
      "torch.float32\n",
      "Loss type: torch.float32\n",
      "torch.float32\n",
      "Loss type: torch.float32\n",
      "torch.float32\n",
      "Loss type: torch.float32\n",
      "torch.float32\n",
      "Loss type: torch.float32\n",
      "torch.float32\n",
      "Loss type: torch.float32\n",
      "torch.float32\n",
      "Loss type: torch.float32\n",
      "torch.float32\n"
     ]
    },
    {
     "name": "stderr",
     "output_type": "stream",
     "text": [
      " 24%|██▍       | 238/1000 [00:05<00:14, 51.05it/s]"
     ]
    },
    {
     "name": "stdout",
     "output_type": "stream",
     "text": [
      "Loss type: torch.float32\n",
      "torch.float32\n",
      "Loss type: torch.float32\n",
      "torch.float32\n",
      "Loss type: torch.float32\n",
      "torch.float32\n",
      "Loss type: torch.float32\n",
      "torch.float32\n",
      "Loss type: torch.float32\n",
      "torch.float32\n",
      "Loss type: torch.float32\n",
      "torch.float32\n",
      "Loss type: torch.float32\n",
      "torch.float32\n",
      "Loss type: torch.float32\n",
      "torch.float32\n",
      "Loss type: torch.float32\n",
      "torch.float32\n",
      "Loss type: torch.float32\n",
      "torch.float32\n",
      "Loss type: torch.float32\n",
      "torch.float32\n",
      "Loss type: torch.float32\n"
     ]
    },
    {
     "name": "stderr",
     "output_type": "stream",
     "text": [
      " 25%|██▌       | 250/1000 [00:05<00:14, 51.68it/s]"
     ]
    },
    {
     "name": "stdout",
     "output_type": "stream",
     "text": [
      "torch.float32\n",
      "Loss type: torch.float32\n",
      "torch.float32\n",
      "Loss type: torch.float32\n",
      "torch.float32\n",
      "Loss type: torch.float32\n",
      "torch.float32\n",
      "Loss type: torch.float32\n",
      "torch.float32\n",
      "Loss type: torch.float32\n",
      "torch.float32\n",
      "Loss type: torch.float32\n",
      "torch.float32\n",
      "Loss type: torch.float32\n",
      "torch.float32\n",
      "Loss type: torch.float32\n",
      "torch.float32\n",
      "Loss type: torch.float32\n",
      "torch.float32\n",
      "Loss type: torch.float32\n",
      "torch.float32\n"
     ]
    },
    {
     "name": "stderr",
     "output_type": "stream",
     "text": [
      " 26%|██▌       | 256/1000 [00:05<00:14, 50.46it/s]"
     ]
    },
    {
     "name": "stdout",
     "output_type": "stream",
     "text": [
      "Loss type: torch.float32\n",
      "torch.float32\n",
      "Loss type: torch.float32\n",
      "torch.float32\n",
      "Loss type: torch.float32\n",
      "torch.float32\n",
      "Loss type: torch.float32\n",
      "torch.float32\n",
      "Loss type: torch.float32\n",
      "torch.float32\n",
      "Loss type: torch.float32\n",
      "torch.float32\n",
      "Loss type: torch.float32\n",
      "torch.float32\n",
      "Loss type: torch.float32\n",
      "torch.float32\n",
      "Loss type: torch.float32\n",
      "torch.float32\n",
      "Loss type: torch.float32\n",
      "torch.float32\n",
      "Loss type: torch.float32\n"
     ]
    },
    {
     "name": "stderr",
     "output_type": "stream",
     "text": [
      " 27%|██▋       | 268/1000 [00:05<00:14, 50.06it/s]"
     ]
    },
    {
     "name": "stdout",
     "output_type": "stream",
     "text": [
      "torch.float32\n",
      "Loss type: torch.float32\n",
      "torch.float32\n",
      "Loss type: torch.float32\n",
      "torch.float32\n",
      "Loss type: torch.float32\n",
      "torch.float32\n",
      "Loss type: torch.float32\n",
      "torch.float32\n",
      "Loss type: torch.float32\n",
      "torch.float32\n",
      "Loss type: torch.float32\n",
      "torch.float32\n",
      "Loss type: torch.float32\n",
      "torch.float32\n",
      "Loss type: torch.float32\n",
      "torch.float32\n",
      "Loss type: torch.float32\n",
      "torch.float32\n",
      "Loss type: torch.float32\n",
      "torch.float32\n"
     ]
    },
    {
     "name": "stderr",
     "output_type": "stream",
     "text": [
      " 28%|██▊       | 280/1000 [00:06<00:14, 49.65it/s]"
     ]
    },
    {
     "name": "stdout",
     "output_type": "stream",
     "text": [
      "Loss type: torch.float32\n",
      "torch.float32\n",
      "Loss type: torch.float32\n",
      "torch.float32\n",
      "Loss type: torch.float32\n",
      "torch.float32\n",
      "Loss type: torch.float32\n",
      "torch.float32\n",
      "Loss type: torch.float32\n",
      "torch.float32\n",
      "Loss type: torch.float32\n",
      "torch.float32\n",
      "Loss type: torch.float32\n",
      "torch.float32\n",
      "Loss type: torch.float32\n",
      "torch.float32\n",
      "Loss type: torch.float32\n",
      "torch.float32\n",
      "Loss type: torch.float32\n",
      "torch.float32\n"
     ]
    },
    {
     "name": "stderr",
     "output_type": "stream",
     "text": [
      " 29%|██▊       | 286/1000 [00:06<00:15, 46.71it/s]"
     ]
    },
    {
     "name": "stdout",
     "output_type": "stream",
     "text": [
      "Loss type: torch.float32\n",
      "torch.float32\n",
      "Loss type: torch.float32\n",
      "torch.float32\n",
      "Loss type: torch.float32\n",
      "torch.float32\n",
      "Loss type: torch.float32\n",
      "torch.float32\n",
      "Loss type: torch.float32\n",
      "torch.float32\n",
      "Loss type: torch.float32\n",
      "torch.float32\n",
      "Loss type: torch.float32\n",
      "torch.float32\n",
      "Loss type: torch.float32\n",
      "torch.float32\n",
      "Loss type: torch.float32\n"
     ]
    },
    {
     "name": "stderr",
     "output_type": "stream",
     "text": [
      " 30%|██▉       | 297/1000 [00:06<00:14, 48.69it/s]"
     ]
    },
    {
     "name": "stdout",
     "output_type": "stream",
     "text": [
      "torch.float32\n",
      "Loss type: torch.float32\n",
      "torch.float32\n",
      "Loss type: torch.float32\n",
      "torch.float32\n",
      "Loss type: torch.float32\n",
      "torch.float32\n",
      "Loss type: torch.float32\n",
      "torch.float32\n",
      "Loss type: torch.float32\n",
      "torch.float32\n",
      "Loss type: torch.float32\n",
      "torch.float32\n",
      "Loss type: torch.float32\n",
      "torch.float32\n",
      "Loss type: torch.float32\n",
      "torch.float32\n"
     ]
    },
    {
     "name": "stderr",
     "output_type": "stream",
     "text": [
      " 31%|███       | 307/1000 [00:06<00:16, 41.00it/s]"
     ]
    },
    {
     "name": "stdout",
     "output_type": "stream",
     "text": [
      "Loss type: torch.float32\n",
      "torch.float32\n",
      "Loss type: torch.float32\n",
      "torch.float32\n",
      "Loss type: torch.float32\n",
      "torch.float32\n",
      "Loss type: torch.float32\n",
      "torch.float32\n",
      "Loss type: torch.float32\n",
      "torch.float32\n",
      "Loss type: torch.float32\n",
      "torch.float32\n",
      "Loss type: torch.float32\n",
      "torch.float32\n",
      "Loss type: torch.float32\n",
      "torch.float32\n"
     ]
    },
    {
     "name": "stderr",
     "output_type": "stream",
     "text": [
      " 31%|███       | 312/1000 [00:06<00:16, 42.41it/s]"
     ]
    },
    {
     "name": "stdout",
     "output_type": "stream",
     "text": [
      "Loss type: torch.float32\n",
      "torch.float32\n",
      "Loss type: torch.float32\n",
      "torch.float32\n",
      "Loss type: torch.float32\n",
      "torch.float32\n",
      "Loss type: torch.float32\n",
      "torch.float32\n",
      "Loss type: torch.float32\n",
      "torch.float32\n",
      "Loss type: torch.float32\n",
      "torch.float32\n",
      "Loss type: torch.float32\n",
      "torch.float32\n",
      "Loss type: torch.float32\n",
      "torch.float32\n"
     ]
    },
    {
     "name": "stderr",
     "output_type": "stream",
     "text": [
      " 32%|███▏      | 321/1000 [00:07<00:20, 33.03it/s]"
     ]
    },
    {
     "name": "stdout",
     "output_type": "stream",
     "text": [
      "Loss type: torch.float32\n",
      "torch.float32\n",
      "Loss type: torch.float32\n",
      "torch.float32\n",
      "Loss type: torch.float32\n",
      "torch.float32\n",
      "Loss type: torch.float32\n",
      "torch.float32\n",
      "Loss type: torch.float32\n",
      "torch.float32\n",
      "Loss type: torch.float32\n",
      "torch.float32\n",
      "Loss type: torch.float32\n",
      "torch.float32\n",
      "Loss type: torch.float32\n",
      "torch.float32\n"
     ]
    },
    {
     "name": "stderr",
     "output_type": "stream",
     "text": [
      " 33%|███▎      | 332/1000 [00:07<00:16, 39.75it/s]"
     ]
    },
    {
     "name": "stdout",
     "output_type": "stream",
     "text": [
      "Loss type: torch.float32\n",
      "torch.float32\n",
      "Loss type: torch.float32\n",
      "torch.float32\n",
      "Loss type: torch.float32\n",
      "torch.float32\n",
      "Loss type: torch.float32\n",
      "torch.float32\n",
      "Loss type: torch.float32\n",
      "torch.float32\n",
      "Loss type: torch.float32\n",
      "torch.float32\n",
      "Loss type: torch.float32\n",
      "torch.float32\n",
      "Loss type: torch.float32\n",
      "torch.float32\n",
      "Loss type: torch.float32\n",
      "torch.float32\n",
      "Loss type: torch.float32\n"
     ]
    },
    {
     "name": "stderr",
     "output_type": "stream",
     "text": [
      " 34%|███▎      | 337/1000 [00:07<00:15, 41.58it/s]"
     ]
    },
    {
     "name": "stdout",
     "output_type": "stream",
     "text": [
      "torch.float32\n",
      "Loss type: torch.float32\n",
      "torch.float32\n",
      "Loss type: torch.float32\n",
      "torch.float32\n",
      "Loss type: torch.float32\n",
      "torch.float32\n",
      "Loss type: torch.float32\n",
      "torch.float32\n",
      "Loss type: torch.float32\n",
      "torch.float32\n",
      "Loss type: torch.float32\n",
      "torch.float32\n",
      "Loss type: torch.float32\n",
      "torch.float32\n"
     ]
    },
    {
     "name": "stderr",
     "output_type": "stream",
     "text": [
      " 34%|███▍      | 342/1000 [00:07<00:22, 29.52it/s]"
     ]
    },
    {
     "name": "stdout",
     "output_type": "stream",
     "text": [
      "Loss type: torch.float32\n",
      "torch.float32\n",
      "Loss type: torch.float32\n",
      "torch.float32\n",
      "Loss type: torch.float32\n",
      "torch.float32\n",
      "Loss type: torch.float32\n",
      "torch.float32\n",
      "Loss type: torch.float32\n",
      "torch.float32\n"
     ]
    },
    {
     "name": "stderr",
     "output_type": "stream",
     "text": [
      " 35%|███▍      | 346/1000 [00:07<00:24, 26.59it/s]"
     ]
    },
    {
     "name": "stdout",
     "output_type": "stream",
     "text": [
      "Loss type: torch.float32\n",
      "torch.float32\n",
      "Loss type: torch.float32\n",
      "torch.float32\n",
      "Loss type: torch.float32\n",
      "torch.float32\n",
      "Loss type: torch.float32\n"
     ]
    },
    {
     "name": "stderr",
     "output_type": "stream",
     "text": [
      " 35%|███▌      | 354/1000 [00:08<00:25, 25.23it/s]"
     ]
    },
    {
     "name": "stdout",
     "output_type": "stream",
     "text": [
      "torch.float32\n",
      "Loss type: torch.float32\n",
      "torch.float32\n",
      "Loss type: torch.float32\n",
      "torch.float32\n",
      "Loss type: torch.float32\n",
      "torch.float32\n",
      "Loss type: torch.float32\n",
      "torch.float32\n",
      "Loss type: torch.float32\n",
      "torch.float32\n"
     ]
    },
    {
     "name": "stderr",
     "output_type": "stream",
     "text": [
      " 36%|███▌      | 358/1000 [00:08<00:23, 26.80it/s]"
     ]
    },
    {
     "name": "stdout",
     "output_type": "stream",
     "text": [
      "Loss type: torch.float32\n",
      "torch.float32\n",
      "Loss type: torch.float32\n",
      "torch.float32\n",
      "Loss type: torch.float32\n",
      "torch.float32\n",
      "Loss type: torch.float32\n",
      "torch.float32\n",
      "Loss type: torch.float32\n",
      "torch.float32\n",
      "Loss type: torch.float32\n",
      "torch.float32\n",
      "Loss type: torch.float32\n",
      "torch.float32\n",
      "Loss type: torch.float32\n"
     ]
    },
    {
     "name": "stderr",
     "output_type": "stream",
     "text": [
      " 36%|███▋      | 363/1000 [00:08<00:20, 31.22it/s]"
     ]
    },
    {
     "name": "stdout",
     "output_type": "stream",
     "text": [
      "torch.float32\n",
      "Loss type: torch.float32\n",
      "torch.float32\n",
      "Loss type: torch.float32\n",
      "torch.float32\n",
      "Loss type: torch.float32\n",
      "torch.float32\n",
      "Loss type: torch.float32\n",
      "torch.float32\n",
      "Loss type: torch.float32\n",
      "torch.float32\n"
     ]
    },
    {
     "name": "stderr",
     "output_type": "stream",
     "text": [
      " 37%|███▋      | 372/1000 [00:08<00:25, 24.63it/s]"
     ]
    },
    {
     "name": "stdout",
     "output_type": "stream",
     "text": [
      "Loss type: torch.float32\n",
      "torch.float32\n",
      "Loss type: torch.float32\n",
      "torch.float32\n",
      "Loss type: torch.float32\n",
      "torch.float32\n",
      "Loss type: torch.float32\n",
      "torch.float32\n",
      "Loss type: torch.float32\n",
      "torch.float32\n"
     ]
    },
    {
     "name": "stderr",
     "output_type": "stream",
     "text": [
      " 38%|███▊      | 375/1000 [00:09<00:27, 22.60it/s]"
     ]
    },
    {
     "name": "stdout",
     "output_type": "stream",
     "text": [
      "Loss type: torch.float32\n",
      "torch.float32\n",
      "Loss type: torch.float32\n",
      "torch.float32\n",
      "Loss type: torch.float32\n",
      "torch.float32\n",
      "Loss type: torch.float32\n"
     ]
    },
    {
     "name": "stderr",
     "output_type": "stream",
     "text": [
      " 38%|███▊      | 383/1000 [00:09<00:22, 27.19it/s]"
     ]
    },
    {
     "name": "stdout",
     "output_type": "stream",
     "text": [
      "torch.float32\n",
      "Loss type: torch.float32\n",
      "torch.float32\n",
      "Loss type: torch.float32\n",
      "torch.float32\n",
      "Loss type: torch.float32\n",
      "torch.float32\n",
      "Loss type: torch.float32\n",
      "torch.float32\n",
      "Loss type: torch.float32\n",
      "torch.float32\n",
      "Loss type: torch.float32\n",
      "torch.float32\n",
      "Loss type: torch.float32\n",
      "torch.float32\n",
      "Loss type: torch.float32\n",
      "torch.float32\n",
      "Loss type: torch.float32\n"
     ]
    },
    {
     "name": "stderr",
     "output_type": "stream",
     "text": [
      " 39%|███▊      | 387/1000 [00:09<00:29, 21.02it/s]"
     ]
    },
    {
     "name": "stdout",
     "output_type": "stream",
     "text": [
      "torch.float32\n",
      "Loss type: torch.float32\n",
      "torch.float32\n",
      "Loss type: torch.float32\n",
      "torch.float32\n",
      "Loss type: torch.float32\n",
      "torch.float32\n"
     ]
    },
    {
     "name": "stderr",
     "output_type": "stream",
     "text": [
      " 39%|███▉      | 390/1000 [00:09<00:33, 18.07it/s]"
     ]
    },
    {
     "name": "stdout",
     "output_type": "stream",
     "text": [
      "Loss type: torch.float32\n",
      "torch.float32\n",
      "Loss type: torch.float32\n",
      "torch.float32\n",
      "Loss type: torch.float32\n",
      "torch.float32\n",
      "Loss type: torch.float32\n",
      "torch.float32\n"
     ]
    },
    {
     "name": "stderr",
     "output_type": "stream",
     "text": [
      " 40%|███▉      | 396/1000 [00:10<00:31, 18.88it/s]"
     ]
    },
    {
     "name": "stdout",
     "output_type": "stream",
     "text": [
      "Loss type: torch.float32\n",
      "torch.float32\n",
      "Loss type: torch.float32\n",
      "torch.float32\n",
      "Loss type: torch.float32\n",
      "torch.float32\n",
      "Loss type: torch.float32\n",
      "torch.float32\n",
      "Loss type: torch.float32\n",
      "torch.float32\n"
     ]
    },
    {
     "name": "stderr",
     "output_type": "stream",
     "text": [
      " 40%|████      | 404/1000 [00:10<00:22, 25.95it/s]"
     ]
    },
    {
     "name": "stdout",
     "output_type": "stream",
     "text": [
      "Loss type: torch.float32\n",
      "torch.float32\n",
      "Loss type: torch.float32\n",
      "torch.float32\n",
      "Loss type: torch.float32\n",
      "torch.float32\n",
      "Loss type: torch.float32\n",
      "torch.float32\n",
      "Loss type: torch.float32\n",
      "torch.float32\n",
      "Loss type: torch.float32\n",
      "torch.float32\n",
      "Loss type: torch.float32\n",
      "torch.float32\n",
      "Loss type: torch.float32\n",
      "torch.float32\n",
      "Loss type: torch.float32\n"
     ]
    },
    {
     "name": "stderr",
     "output_type": "stream",
     "text": [
      " 42%|████▏     | 415/1000 [00:10<00:15, 36.75it/s]"
     ]
    },
    {
     "name": "stdout",
     "output_type": "stream",
     "text": [
      "torch.float32\n",
      "Loss type: torch.float32\n",
      "torch.float32\n",
      "Loss type: torch.float32\n",
      "torch.float32\n",
      "Loss type: torch.float32\n",
      "torch.float32\n",
      "Loss type: torch.float32\n",
      "torch.float32\n",
      "Loss type: torch.float32\n",
      "torch.float32\n",
      "Loss type: torch.float32\n",
      "torch.float32\n",
      "Loss type: torch.float32\n",
      "torch.float32\n",
      "Loss type: torch.float32\n",
      "torch.float32\n",
      "Loss type: torch.float32\n",
      "torch.float32\n",
      "Loss type: torch.float32\n",
      "torch.float32\n"
     ]
    },
    {
     "name": "stderr",
     "output_type": "stream",
     "text": [
      " 42%|████▏     | 420/1000 [00:10<00:14, 38.81it/s]"
     ]
    },
    {
     "name": "stdout",
     "output_type": "stream",
     "text": [
      "Loss type: torch.float32\n",
      "torch.float32\n",
      "Loss type: torch.float32\n",
      "torch.float32\n",
      "Loss type: torch.float32\n",
      "torch.float32\n",
      "Loss type: torch.float32\n",
      "torch.float32\n",
      "Loss type: torch.float32\n",
      "torch.float32\n",
      "Loss type: torch.float32\n",
      "torch.float32\n",
      "Loss type: torch.float32\n",
      "torch.float32\n",
      "Loss type: torch.float32\n"
     ]
    },
    {
     "name": "stderr",
     "output_type": "stream",
     "text": [
      " 43%|████▎     | 429/1000 [00:11<00:15, 37.26it/s]"
     ]
    },
    {
     "name": "stdout",
     "output_type": "stream",
     "text": [
      "torch.float32\n",
      "Loss type: torch.float32\n",
      "torch.float32\n",
      "Loss type: torch.float32\n",
      "torch.float32\n",
      "Loss type: torch.float32\n",
      "torch.float32\n",
      "Loss type: torch.float32\n",
      "torch.float32\n",
      "Loss type: torch.float32\n",
      "torch.float32\n",
      "Loss type: torch.float32\n",
      "torch.float32\n",
      "Loss type: torch.float32\n",
      "torch.float32\n",
      "Loss type: torch.float32\n",
      "torch.float32\n",
      "Loss type: torch.float32\n"
     ]
    },
    {
     "name": "stderr",
     "output_type": "stream",
     "text": [
      " 44%|████▍     | 440/1000 [00:11<00:13, 42.02it/s]"
     ]
    },
    {
     "name": "stdout",
     "output_type": "stream",
     "text": [
      "torch.float32\n",
      "Loss type: torch.float32\n",
      "torch.float32\n",
      "Loss type: torch.float32\n",
      "torch.float32\n",
      "Loss type: torch.float32\n",
      "torch.float32\n",
      "Loss type: torch.float32\n",
      "torch.float32\n",
      "Loss type: torch.float32\n",
      "torch.float32\n",
      "Loss type: torch.float32\n",
      "torch.float32\n",
      "Loss type: torch.float32\n",
      "torch.float32\n",
      "Loss type: torch.float32\n",
      "torch.float32\n",
      "Loss type: torch.float32\n",
      "torch.float32\n"
     ]
    },
    {
     "name": "stderr",
     "output_type": "stream",
     "text": [
      " 44%|████▍     | 445/1000 [00:11<00:13, 41.95it/s]"
     ]
    },
    {
     "name": "stdout",
     "output_type": "stream",
     "text": [
      "Loss type: torch.float32\n",
      "torch.float32\n",
      "Loss type: torch.float32\n",
      "torch.float32\n",
      "Loss type: torch.float32\n",
      "torch.float32\n",
      "Loss type: torch.float32\n",
      "torch.float32\n"
     ]
    },
    {
     "name": "stderr",
     "output_type": "stream",
     "text": [
      " 46%|████▌     | 455/1000 [00:12<00:21, 25.56it/s]"
     ]
    },
    {
     "name": "stdout",
     "output_type": "stream",
     "text": [
      "Loss type: torch.float32\n",
      "torch.float32\n",
      "Loss type: torch.float32\n",
      "torch.float32\n",
      "Loss type: torch.float32\n",
      "torch.float32\n",
      "Loss type: torch.float32\n",
      "torch.float32\n",
      "Loss type: torch.float32\n",
      "torch.float32\n",
      "Loss type: torch.float32\n",
      "torch.float32\n",
      "Loss type: torch.float32\n",
      "torch.float32\n",
      "Loss type: torch.float32\n",
      "torch.float32\n",
      "Loss type: torch.float32\n",
      "torch.float32\n"
     ]
    },
    {
     "name": "stderr",
     "output_type": "stream",
     "text": [
      " 46%|████▌     | 461/1000 [00:12<00:17, 31.18it/s]"
     ]
    },
    {
     "name": "stdout",
     "output_type": "stream",
     "text": [
      "Loss type: torch.float32\n",
      "torch.float32\n",
      "Loss type: torch.float32\n",
      "torch.float32\n",
      "Loss type: torch.float32\n",
      "torch.float32\n",
      "Loss type: torch.float32\n",
      "torch.float32\n",
      "Loss type: torch.float32\n",
      "torch.float32\n",
      "Loss type: torch.float32\n",
      "torch.float32\n",
      "Loss type: torch.float32\n",
      "torch.float32\n",
      "Loss type: torch.float32\n",
      "torch.float32\n",
      "Loss type: torch.float32\n",
      "torch.float32\n",
      "Loss type: torch.float32\n",
      "torch.float32\n"
     ]
    },
    {
     "name": "stderr",
     "output_type": "stream",
     "text": [
      " 47%|████▋     | 470/1000 [00:12<00:18, 28.55it/s]"
     ]
    },
    {
     "name": "stdout",
     "output_type": "stream",
     "text": [
      "Loss type: torch.float32\n",
      "torch.float32\n",
      "Loss type: torch.float32\n",
      "torch.float32\n",
      "Loss type: torch.float32\n",
      "torch.float32\n",
      "Loss type: torch.float32\n",
      "torch.float32\n",
      "Loss type: torch.float32\n",
      "torch.float32\n",
      "Loss type: torch.float32\n",
      "torch.float32\n",
      "Loss type: torch.float32\n",
      "torch.float32\n"
     ]
    },
    {
     "name": "stderr",
     "output_type": "stream",
     "text": [
      " 48%|████▊     | 479/1000 [00:12<00:16, 31.82it/s]"
     ]
    },
    {
     "name": "stdout",
     "output_type": "stream",
     "text": [
      "Loss type: torch.float32\n",
      "torch.float32\n",
      "Loss type: torch.float32\n",
      "torch.float32\n",
      "Loss type: torch.float32\n",
      "torch.float32\n",
      "Loss type: torch.float32\n",
      "torch.float32\n",
      "Loss type: torch.float32\n",
      "torch.float32\n",
      "Loss type: torch.float32\n",
      "torch.float32\n",
      "Loss type: torch.float32\n",
      "torch.float32\n",
      "Loss type: torch.float32\n"
     ]
    },
    {
     "name": "stderr",
     "output_type": "stream",
     "text": [
      " 48%|████▊     | 485/1000 [00:12<00:13, 37.34it/s]"
     ]
    },
    {
     "name": "stdout",
     "output_type": "stream",
     "text": [
      "torch.float32\n",
      "Loss type: torch.float32\n",
      "torch.float32\n",
      "Loss type: torch.float32\n",
      "torch.float32\n",
      "Loss type: torch.float32\n",
      "torch.float32\n",
      "Loss type: torch.float32\n",
      "torch.float32\n",
      "Loss type: torch.float32\n",
      "torch.float32\n",
      "Loss type: torch.float32\n",
      "torch.float32\n",
      "Loss type: torch.float32\n",
      "torch.float32\n",
      "Loss type: torch.float32\n",
      "torch.float32\n",
      "Loss type: torch.float32\n",
      "torch.float32\n",
      "Loss type: torch.float32\n"
     ]
    },
    {
     "name": "stderr",
     "output_type": "stream",
     "text": [
      " 50%|████▉     | 495/1000 [00:13<00:13, 38.21it/s]"
     ]
    },
    {
     "name": "stdout",
     "output_type": "stream",
     "text": [
      "torch.float32\n",
      "Loss type: torch.float32\n",
      "torch.float32\n",
      "Loss type: torch.float32\n",
      "torch.float32\n",
      "Loss type: torch.float32\n",
      "torch.float32\n",
      "Loss type: torch.float32\n",
      "torch.float32\n",
      "Loss type: torch.float32\n",
      "torch.float32\n",
      "Loss type: torch.float32\n",
      "torch.float32\n",
      "Loss type: torch.float32\n",
      "torch.float32\n",
      "Loss type: torch.float32\n",
      "torch.float32\n",
      "Loss type: torch.float32\n",
      "torch.float32\n"
     ]
    },
    {
     "name": "stderr",
     "output_type": "stream",
     "text": [
      " 51%|█████     | 507/1000 [00:13<00:11, 44.45it/s]"
     ]
    },
    {
     "name": "stdout",
     "output_type": "stream",
     "text": [
      "Loss type: torch.float32\n",
      "torch.float32\n",
      "Loss type: torch.float32\n",
      "torch.float32\n",
      "Loss type: torch.float32\n",
      "torch.float32\n",
      "Loss type: torch.float32\n",
      "torch.float32\n",
      "Loss type: torch.float32\n",
      "torch.float32\n",
      "Loss type: torch.float32\n",
      "torch.float32\n",
      "Loss type: torch.float32\n",
      "torch.float32\n",
      "Loss type: torch.float32\n",
      "torch.float32\n",
      "Loss type: torch.float32\n",
      "torch.float32\n",
      "Loss type: torch.float32\n",
      "torch.float32\n"
     ]
    },
    {
     "name": "stderr",
     "output_type": "stream",
     "text": [
      " 51%|█████     | 512/1000 [00:13<00:11, 42.66it/s]"
     ]
    },
    {
     "name": "stdout",
     "output_type": "stream",
     "text": [
      "Loss type: torch.float32\n",
      "torch.float32\n",
      "Loss type: torch.float32\n",
      "torch.float32\n",
      "Loss type: torch.float32\n",
      "torch.float32\n",
      "Loss type: torch.float32\n",
      "torch.float32\n",
      "Loss type: torch.float32\n",
      "torch.float32\n",
      "Loss type: torch.float32\n",
      "torch.float32\n"
     ]
    },
    {
     "name": "stderr",
     "output_type": "stream",
     "text": [
      " 52%|█████▏    | 521/1000 [00:13<00:12, 37.06it/s]"
     ]
    },
    {
     "name": "stdout",
     "output_type": "stream",
     "text": [
      "Loss type: torch.float32\n",
      "torch.float32\n",
      "Loss type: torch.float32\n",
      "torch.float32\n",
      "Loss type: torch.float32\n",
      "torch.float32\n",
      "Loss type: torch.float32\n",
      "torch.float32\n",
      "Loss type: torch.float32\n",
      "torch.float32\n",
      "Loss type: torch.float32\n",
      "torch.float32\n",
      "Loss type: torch.float32\n",
      "torch.float32\n",
      "Loss type: torch.float32\n",
      "torch.float32\n"
     ]
    },
    {
     "name": "stderr",
     "output_type": "stream",
     "text": [
      " 53%|█████▎    | 532/1000 [00:13<00:10, 44.08it/s]"
     ]
    },
    {
     "name": "stdout",
     "output_type": "stream",
     "text": [
      "Loss type: torch.float32\n",
      "torch.float32\n",
      "Loss type: torch.float32\n",
      "torch.float32\n",
      "Loss type: torch.float32\n",
      "torch.float32\n",
      "Loss type: torch.float32\n",
      "torch.float32\n",
      "Loss type: torch.float32\n",
      "torch.float32\n",
      "Loss type: torch.float32\n",
      "torch.float32\n",
      "Loss type: torch.float32\n",
      "torch.float32\n",
      "Loss type: torch.float32\n",
      "torch.float32\n",
      "Loss type: torch.float32\n",
      "torch.float32\n",
      "Loss type: torch.float32\n",
      "torch.float32\n",
      "Loss type: torch.float32\n"
     ]
    },
    {
     "name": "stderr",
     "output_type": "stream",
     "text": [
      " 54%|█████▍    | 542/1000 [00:14<00:10, 44.20it/s]"
     ]
    },
    {
     "name": "stdout",
     "output_type": "stream",
     "text": [
      "torch.float32\n",
      "Loss type: torch.float32\n",
      "torch.float32\n",
      "Loss type: torch.float32\n",
      "torch.float32\n",
      "Loss type: torch.float32\n",
      "torch.float32\n",
      "Loss type: torch.float32\n",
      "torch.float32\n",
      "Loss type: torch.float32\n",
      "torch.float32\n",
      "Loss type: torch.float32\n",
      "torch.float32\n",
      "Loss type: torch.float32\n",
      "torch.float32\n",
      "Loss type: torch.float32\n",
      "torch.float32\n",
      "Loss type: torch.float32\n"
     ]
    },
    {
     "name": "stderr",
     "output_type": "stream",
     "text": [
      " 55%|█████▌    | 552/1000 [00:14<00:09, 45.79it/s]"
     ]
    },
    {
     "name": "stdout",
     "output_type": "stream",
     "text": [
      "torch.float32\n",
      "Loss type: torch.float32\n",
      "torch.float32\n",
      "Loss type: torch.float32\n",
      "torch.float32\n",
      "Loss type: torch.float32\n",
      "torch.float32\n",
      "Loss type: torch.float32\n",
      "torch.float32\n",
      "Loss type: torch.float32\n",
      "torch.float32\n",
      "Loss type: torch.float32\n",
      "torch.float32\n",
      "Loss type: torch.float32\n",
      "torch.float32\n",
      "Loss type: torch.float32\n",
      "torch.float32\n",
      "Loss type: torch.float32\n",
      "torch.float32\n",
      "Loss type: torch.float32\n",
      "torch.float32\n",
      "Loss type: torch.float32\n",
      "torch.float32\n",
      "Loss type: torch.float32\n",
      "torch.float32\n",
      "Loss type: torch.float32\n",
      "torch.float32\n",
      "Loss type: torch.float32\n"
     ]
    },
    {
     "name": "stderr",
     "output_type": "stream",
     "text": [
      " 56%|█████▌    | 561/1000 [00:14<00:13, 33.16it/s]"
     ]
    },
    {
     "name": "stdout",
     "output_type": "stream",
     "text": [
      "torch.float32\n",
      "Loss type: torch.float32\n",
      "torch.float32\n",
      "Loss type: torch.float32\n",
      "torch.float32\n",
      "Loss type: torch.float32\n",
      "torch.float32\n",
      "Loss type: torch.float32\n",
      "torch.float32\n",
      "Loss type: torch.float32\n",
      "torch.float32\n",
      "Loss type: torch.float32\n",
      "torch.float32\n",
      "Loss type: torch.float32\n",
      "torch.float32\n",
      "Loss type: torch.float32\n",
      "torch.float32\n",
      "Loss type: torch.float32\n",
      "torch.float32\n"
     ]
    },
    {
     "name": "stderr",
     "output_type": "stream",
     "text": [
      " 57%|█████▋    | 573/1000 [00:14<00:10, 39.78it/s]"
     ]
    },
    {
     "name": "stdout",
     "output_type": "stream",
     "text": [
      "Loss type: torch.float32\n",
      "torch.float32\n",
      "Loss type: torch.float32\n",
      "torch.float32\n",
      "Loss type: torch.float32\n",
      "torch.float32\n",
      "Loss type: torch.float32\n",
      "torch.float32\n",
      "Loss type: torch.float32\n",
      "torch.float32\n",
      "Loss type: torch.float32\n",
      "torch.float32\n",
      "Loss type: torch.float32\n",
      "torch.float32\n",
      "Loss type: torch.float32\n",
      "torch.float32\n",
      "Loss type: torch.float32\n"
     ]
    },
    {
     "name": "stderr",
     "output_type": "stream",
     "text": [
      " 58%|█████▊    | 583/1000 [00:15<00:10, 40.29it/s]"
     ]
    },
    {
     "name": "stdout",
     "output_type": "stream",
     "text": [
      "torch.float32\n",
      "Loss type: torch.float32\n",
      "torch.float32\n",
      "Loss type: torch.float32\n",
      "torch.float32\n",
      "Loss type: torch.float32\n",
      "torch.float32\n",
      "Loss type: torch.float32\n",
      "torch.float32\n",
      "Loss type: torch.float32\n",
      "torch.float32\n",
      "Loss type: torch.float32\n",
      "torch.float32\n",
      "Loss type: torch.float32\n",
      "torch.float32\n",
      "Loss type: torch.float32\n",
      "torch.float32\n",
      "Loss type: torch.float32\n"
     ]
    },
    {
     "name": "stderr",
     "output_type": "stream",
     "text": [
      " 60%|█████▉    | 595/1000 [00:15<00:08, 47.36it/s]"
     ]
    },
    {
     "name": "stdout",
     "output_type": "stream",
     "text": [
      "torch.float32\n",
      "Loss type: torch.float32\n",
      "torch.float32\n",
      "Loss type: torch.float32\n",
      "torch.float32\n",
      "Loss type: torch.float32\n",
      "torch.float32\n",
      "Loss type: torch.float32\n",
      "torch.float32\n",
      "Loss type: torch.float32\n",
      "torch.float32\n",
      "Loss type: torch.float32\n",
      "torch.float32\n",
      "Loss type: torch.float32\n",
      "torch.float32\n",
      "Loss type: torch.float32\n",
      "torch.float32\n",
      "Loss type: torch.float32\n",
      "torch.float32\n",
      "Loss type: torch.float32\n",
      "torch.float32\n",
      "Loss type: torch.float32\n",
      "torch.float32\n"
     ]
    },
    {
     "name": "stderr",
     "output_type": "stream",
     "text": [
      " 60%|██████    | 600/1000 [00:15<00:08, 46.29it/s]"
     ]
    },
    {
     "name": "stdout",
     "output_type": "stream",
     "text": [
      "Loss type: torch.float32\n",
      "torch.float32\n",
      "Loss type: torch.float32\n",
      "torch.float32\n",
      "Loss type: torch.float32\n",
      "torch.float32\n",
      "Loss type: torch.float32\n",
      "torch.float32\n",
      "Loss type: torch.float32\n",
      "torch.float32\n",
      "Loss type: torch.float32\n",
      "torch.float32\n",
      "Loss type: torch.float32\n",
      "torch.float32\n",
      "Loss type: torch.float32\n",
      "torch.float32\n",
      "Loss type: torch.float32\n",
      "torch.float32\n",
      "Loss type: torch.float32\n"
     ]
    },
    {
     "name": "stderr",
     "output_type": "stream",
     "text": [
      " 61%|██████    | 610/1000 [00:15<00:08, 47.00it/s]"
     ]
    },
    {
     "name": "stdout",
     "output_type": "stream",
     "text": [
      "torch.float32\n",
      "Loss type: torch.float32\n",
      "torch.float32\n",
      "Loss type: torch.float32\n",
      "torch.float32\n",
      "Loss type: torch.float32\n",
      "torch.float32\n",
      "Loss type: torch.float32\n",
      "torch.float32\n",
      "Loss type: torch.float32\n",
      "torch.float32\n",
      "Loss type: torch.float32\n",
      "torch.float32\n",
      "Loss type: torch.float32\n",
      "torch.float32\n",
      "Loss type: torch.float32\n",
      "torch.float32\n",
      "Loss type: torch.float32\n",
      "torch.float32\n",
      "Loss type: torch.float32\n",
      "torch.float32\n"
     ]
    },
    {
     "name": "stderr",
     "output_type": "stream",
     "text": [
      " 62%|██████▏   | 621/1000 [00:15<00:07, 49.21it/s]"
     ]
    },
    {
     "name": "stdout",
     "output_type": "stream",
     "text": [
      "Loss type: torch.float32\n",
      "torch.float32\n",
      "Loss type: torch.float32\n",
      "torch.float32\n",
      "Loss type: torch.float32\n",
      "torch.float32\n",
      "Loss type: torch.float32\n",
      "torch.float32\n",
      "Loss type: torch.float32\n",
      "torch.float32\n",
      "Loss type: torch.float32\n",
      "torch.float32\n",
      "Loss type: torch.float32\n",
      "torch.float32\n",
      "Loss type: torch.float32\n",
      "torch.float32\n",
      "Loss type: torch.float32\n",
      "torch.float32\n",
      "Loss type: torch.float32\n",
      "torch.float32\n",
      "Loss type: torch.float32\n",
      "torch.float32\n"
     ]
    },
    {
     "name": "stderr",
     "output_type": "stream",
     "text": [
      " 63%|██████▎   | 634/1000 [00:16<00:07, 47.08it/s]"
     ]
    },
    {
     "name": "stdout",
     "output_type": "stream",
     "text": [
      "Loss type: torch.float32\n",
      "torch.float32\n",
      "Loss type: torch.float32\n",
      "torch.float32\n",
      "Loss type: torch.float32\n",
      "torch.float32\n",
      "Loss type: torch.float32\n",
      "torch.float32\n",
      "Loss type: torch.float32\n",
      "torch.float32\n",
      "Loss type: torch.float32\n",
      "torch.float32\n",
      "Loss type: torch.float32\n",
      "torch.float32\n",
      "Loss type: torch.float32\n",
      "torch.float32\n",
      "Loss type: torch.float32\n",
      "torch.float32\n"
     ]
    },
    {
     "name": "stderr",
     "output_type": "stream",
     "text": [
      " 65%|██████▍   | 646/1000 [00:16<00:06, 51.14it/s]"
     ]
    },
    {
     "name": "stdout",
     "output_type": "stream",
     "text": [
      "Loss type: torch.float32\n",
      "torch.float32\n",
      "Loss type: torch.float32\n",
      "torch.float32\n",
      "Loss type: torch.float32\n",
      "torch.float32\n",
      "Loss type: torch.float32\n",
      "torch.float32\n",
      "Loss type: torch.float32\n",
      "torch.float32\n",
      "Loss type: torch.float32\n",
      "torch.float32\n",
      "Loss type: torch.float32\n",
      "torch.float32\n",
      "Loss type: torch.float32\n",
      "torch.float32\n",
      "Loss type: torch.float32\n",
      "torch.float32\n",
      "Loss type: torch.float32\n",
      "torch.float32\n",
      "Loss type: torch.float32\n",
      "torch.float32\n",
      "Loss type: torch.float32\n"
     ]
    },
    {
     "name": "stderr",
     "output_type": "stream",
     "text": [
      " 65%|██████▌   | 652/1000 [00:16<00:06, 50.06it/s]"
     ]
    },
    {
     "name": "stdout",
     "output_type": "stream",
     "text": [
      "torch.float32\n",
      "Loss type: torch.float32\n",
      "torch.float32\n",
      "Loss type: torch.float32\n",
      "torch.float32\n",
      "Loss type: torch.float32\n",
      "torch.float32\n",
      "Loss type: torch.float32\n",
      "torch.float32\n",
      "Loss type: torch.float32\n",
      "torch.float32\n",
      "Loss type: torch.float32\n",
      "torch.float32\n",
      "Loss type: torch.float32\n",
      "torch.float32\n",
      "Loss type: torch.float32\n",
      "torch.float32\n"
     ]
    },
    {
     "name": "stderr",
     "output_type": "stream",
     "text": [
      " 66%|██████▌   | 658/1000 [00:16<00:07, 46.31it/s]"
     ]
    },
    {
     "name": "stdout",
     "output_type": "stream",
     "text": [
      "Loss type: torch.float32\n",
      "torch.float32\n",
      "Loss type: torch.float32\n",
      "torch.float32\n",
      "Loss type: torch.float32\n",
      "torch.float32\n",
      "Loss type: torch.float32\n",
      "torch.float32\n",
      "Loss type: torch.float32\n",
      "torch.float32\n",
      "Loss type: torch.float32\n",
      "torch.float32\n"
     ]
    },
    {
     "name": "stderr",
     "output_type": "stream",
     "text": [
      " 66%|██████▋   | 663/1000 [00:17<00:10, 30.89it/s]"
     ]
    },
    {
     "name": "stdout",
     "output_type": "stream",
     "text": [
      "Loss type: torch.float32\n",
      "torch.float32\n",
      "Loss type: torch.float32\n",
      "torch.float32\n",
      "Loss type: torch.float32\n",
      "torch.float32\n",
      "Loss type: torch.float32\n",
      "torch.float32\n",
      "Loss type: torch.float32\n",
      "torch.float32\n"
     ]
    },
    {
     "name": "stderr",
     "output_type": "stream",
     "text": [
      " 67%|██████▋   | 671/1000 [00:17<00:10, 31.47it/s]"
     ]
    },
    {
     "name": "stdout",
     "output_type": "stream",
     "text": [
      "Loss type: torch.float32\n",
      "torch.float32\n",
      "Loss type: torch.float32\n",
      "torch.float32\n",
      "Loss type: torch.float32\n",
      "torch.float32\n",
      "Loss type: torch.float32\n",
      "torch.float32\n",
      "Loss type: torch.float32\n",
      "torch.float32\n",
      "Loss type: torch.float32\n",
      "torch.float32\n",
      "Loss type: torch.float32\n",
      "torch.float32\n",
      "Loss type: torch.float32\n",
      "torch.float32\n",
      "Loss type: torch.float32\n",
      "torch.float32\n",
      "Loss type: torch.float32\n"
     ]
    },
    {
     "name": "stderr",
     "output_type": "stream",
     "text": [
      " 68%|██████▊   | 683/1000 [00:17<00:07, 39.70it/s]"
     ]
    },
    {
     "name": "stdout",
     "output_type": "stream",
     "text": [
      "torch.float32\n",
      "Loss type: torch.float32\n",
      "torch.float32\n",
      "Loss type: torch.float32\n",
      "torch.float32\n",
      "Loss type: torch.float32\n",
      "torch.float32\n",
      "Loss type: torch.float32\n",
      "torch.float32\n",
      "Loss type: torch.float32\n",
      "torch.float32\n",
      "Loss type: torch.float32\n",
      "torch.float32\n",
      "Loss type: torch.float32\n",
      "torch.float32\n",
      "Loss type: torch.float32\n",
      "torch.float32\n",
      "Loss type: torch.float32\n",
      "torch.float32\n",
      "Loss type: torch.float32\n"
     ]
    },
    {
     "name": "stderr",
     "output_type": "stream",
     "text": [
      " 69%|██████▉   | 693/1000 [00:17<00:07, 41.14it/s]"
     ]
    },
    {
     "name": "stdout",
     "output_type": "stream",
     "text": [
      "torch.float32\n",
      "Loss type: torch.float32\n",
      "torch.float32\n",
      "Loss type: torch.float32\n",
      "torch.float32\n",
      "Loss type: torch.float32\n",
      "torch.float32\n",
      "Loss type: torch.float32\n",
      "torch.float32\n",
      "Loss type: torch.float32\n",
      "torch.float32\n",
      "Loss type: torch.float32\n",
      "torch.float32\n",
      "Loss type: torch.float32\n",
      "torch.float32\n",
      "Loss type: torch.float32\n",
      "torch.float32\n"
     ]
    },
    {
     "name": "stderr",
     "output_type": "stream",
     "text": [
      " 70%|██████▉   | 699/1000 [00:17<00:06, 43.15it/s]"
     ]
    },
    {
     "name": "stdout",
     "output_type": "stream",
     "text": [
      "Loss type: torch.float32\n",
      "torch.float32\n",
      "Loss type: torch.float32\n",
      "torch.float32\n",
      "Loss type: torch.float32\n",
      "torch.float32\n",
      "Loss type: torch.float32\n",
      "torch.float32\n",
      "Loss type: torch.float32\n",
      "torch.float32\n",
      "Loss type: torch.float32\n",
      "torch.float32\n",
      "Loss type: torch.float32\n",
      "torch.float32\n",
      "Loss type: torch.float32\n",
      "torch.float32\n",
      "Loss type: torch.float32\n",
      "torch.float32\n",
      "Loss type: torch.float32\n"
     ]
    },
    {
     "name": "stderr",
     "output_type": "stream",
     "text": [
      " 71%|███████   | 710/1000 [00:18<00:06, 47.25it/s]"
     ]
    },
    {
     "name": "stdout",
     "output_type": "stream",
     "text": [
      "torch.float32\n",
      "Loss type: torch.float32\n",
      "torch.float32\n",
      "Loss type: torch.float32\n",
      "torch.float32\n",
      "Loss type: torch.float32\n",
      "torch.float32\n",
      "Loss type: torch.float32\n",
      "torch.float32\n",
      "Loss type: torch.float32\n",
      "torch.float32\n",
      "Loss type: torch.float32\n",
      "torch.float32\n",
      "Loss type: torch.float32\n",
      "torch.float32\n",
      "Loss type: torch.float32\n",
      "torch.float32\n",
      "Loss type: torch.float32\n",
      "torch.float32\n",
      "Loss type: torch.float32\n",
      "torch.float32\n",
      "Loss type: torch.float32\n",
      "torch.float32\n"
     ]
    },
    {
     "name": "stderr",
     "output_type": "stream",
     "text": [
      " 72%|███████▏  | 723/1000 [00:18<00:05, 46.97it/s]"
     ]
    },
    {
     "name": "stdout",
     "output_type": "stream",
     "text": [
      "Loss type: torch.float32\n",
      "torch.float32\n",
      "Loss type: torch.float32\n",
      "torch.float32\n",
      "Loss type: torch.float32\n",
      "torch.float32\n",
      "Loss type: torch.float32\n",
      "torch.float32\n",
      "Loss type: torch.float32\n",
      "torch.float32\n",
      "Loss type: torch.float32\n",
      "torch.float32\n",
      "Loss type: torch.float32\n",
      "torch.float32\n",
      "Loss type: torch.float32\n",
      "torch.float32\n",
      "Loss type: torch.float32\n",
      "torch.float32\n"
     ]
    },
    {
     "name": "stderr",
     "output_type": "stream",
     "text": [
      " 73%|███████▎  | 734/1000 [00:18<00:05, 47.23it/s]"
     ]
    },
    {
     "name": "stdout",
     "output_type": "stream",
     "text": [
      "Loss type: torch.float32\n",
      "torch.float32\n",
      "Loss type: torch.float32\n",
      "torch.float32\n",
      "Loss type: torch.float32\n",
      "torch.float32\n",
      "Loss type: torch.float32\n",
      "torch.float32\n",
      "Loss type: torch.float32\n",
      "torch.float32\n",
      "Loss type: torch.float32\n",
      "torch.float32\n",
      "Loss type: torch.float32\n",
      "torch.float32\n",
      "Loss type: torch.float32\n",
      "torch.float32\n",
      "Loss type: torch.float32\n",
      "torch.float32\n",
      "Loss type: torch.float32\n",
      "torch.float32\n"
     ]
    },
    {
     "name": "stderr",
     "output_type": "stream",
     "text": [
      " 74%|███████▍  | 739/1000 [00:18<00:05, 46.70it/s]"
     ]
    },
    {
     "name": "stdout",
     "output_type": "stream",
     "text": [
      "Loss type: torch.float32\n",
      "torch.float32\n",
      "Loss type: torch.float32\n",
      "torch.float32\n",
      "Loss type: torch.float32\n",
      "torch.float32\n",
      "Loss type: torch.float32\n",
      "torch.float32\n",
      "Loss type: torch.float32\n",
      "torch.float32\n",
      "Loss type: torch.float32\n",
      "torch.float32\n",
      "Loss type: torch.float32\n",
      "torch.float32\n",
      "Loss type: torch.float32\n",
      "torch.float32\n"
     ]
    },
    {
     "name": "stderr",
     "output_type": "stream",
     "text": [
      " 75%|███████▍  | 749/1000 [00:18<00:05, 43.81it/s]"
     ]
    },
    {
     "name": "stdout",
     "output_type": "stream",
     "text": [
      "Loss type: torch.float32\n",
      "torch.float32\n",
      "Loss type: torch.float32\n",
      "torch.float32\n",
      "Loss type: torch.float32\n",
      "torch.float32\n",
      "Loss type: torch.float32\n",
      "torch.float32\n",
      "Loss type: torch.float32\n",
      "torch.float32\n",
      "Loss type: torch.float32\n",
      "torch.float32\n",
      "Loss type: torch.float32\n",
      "torch.float32\n",
      "Loss type: torch.float32\n",
      "torch.float32\n",
      "Loss type: torch.float32\n",
      "torch.float32\n",
      "Loss type: torch.float32\n",
      "torch.float32\n",
      "Loss type: torch.float32\n"
     ]
    },
    {
     "name": "stderr",
     "output_type": "stream",
     "text": [
      " 76%|███████▌  | 755/1000 [00:19<00:05, 44.36it/s]"
     ]
    },
    {
     "name": "stdout",
     "output_type": "stream",
     "text": [
      "torch.float32\n",
      "Loss type: torch.float32\n",
      "torch.float32\n",
      "Loss type: torch.float32\n",
      "torch.float32\n"
     ]
    },
    {
     "name": "stderr",
     "output_type": "stream",
     "text": [
      " 76%|███████▌  | 760/1000 [00:19<00:08, 26.79it/s]"
     ]
    },
    {
     "name": "stdout",
     "output_type": "stream",
     "text": [
      "Loss type: torch.float32\n",
      "torch.float32\n",
      "Loss type: torch.float32\n",
      "torch.float32\n",
      "Loss type: torch.float32\n",
      "torch.float32\n",
      "Loss type: torch.float32\n",
      "torch.float32\n",
      "Loss type: torch.float32\n",
      "torch.float32\n",
      "Loss type: torch.float32\n",
      "torch.float32\n",
      "Loss type: torch.float32\n",
      "torch.float32\n"
     ]
    },
    {
     "name": "stderr",
     "output_type": "stream",
     "text": [
      " 77%|███████▋  | 769/1000 [00:19<00:07, 31.73it/s]"
     ]
    },
    {
     "name": "stdout",
     "output_type": "stream",
     "text": [
      "Loss type: torch.float32\n",
      "torch.float32\n",
      "Loss type: torch.float32\n",
      "torch.float32\n",
      "Loss type: torch.float32\n",
      "torch.float32\n",
      "Loss type: torch.float32\n",
      "torch.float32\n",
      "Loss type: torch.float32\n",
      "torch.float32\n",
      "Loss type: torch.float32\n",
      "torch.float32\n",
      "Loss type: torch.float32\n",
      "torch.float32\n",
      "Loss type: torch.float32\n",
      "torch.float32\n",
      "Loss type: torch.float32\n",
      "torch.float32\n"
     ]
    },
    {
     "name": "stderr",
     "output_type": "stream",
     "text": [
      " 78%|███████▊  | 781/1000 [00:19<00:05, 40.29it/s]"
     ]
    },
    {
     "name": "stdout",
     "output_type": "stream",
     "text": [
      "Loss type: torch.float32\n",
      "torch.float32\n",
      "Loss type: torch.float32\n",
      "torch.float32\n",
      "Loss type: torch.float32\n",
      "torch.float32\n",
      "Loss type: torch.float32\n",
      "torch.float32\n",
      "Loss type: torch.float32\n",
      "torch.float32\n",
      "Loss type: torch.float32\n",
      "torch.float32\n",
      "Loss type: torch.float32\n",
      "torch.float32\n",
      "Loss type: torch.float32\n",
      "torch.float32\n",
      "Loss type: torch.float32\n",
      "torch.float32\n",
      "Loss type: torch.float32\n",
      "torch.float32\n",
      "Loss type: torch.float32\n"
     ]
    },
    {
     "name": "stderr",
     "output_type": "stream",
     "text": [
      " 79%|███████▊  | 786/1000 [00:20<00:05, 40.89it/s]"
     ]
    },
    {
     "name": "stdout",
     "output_type": "stream",
     "text": [
      "torch.float32\n",
      "Loss type: torch.float32\n",
      "torch.float32\n",
      "Loss type: torch.float32\n",
      "torch.float32\n",
      "Loss type: torch.float32\n",
      "torch.float32\n",
      "Loss type: torch.float32\n",
      "torch.float32\n",
      "Loss type: torch.float32\n",
      "torch.float32\n",
      "Loss type: torch.float32\n",
      "torch.float32\n",
      "Loss type: torch.float32\n",
      "torch.float32\n",
      "Loss type: torch.float32\n",
      "torch.float32\n",
      "Loss type: torch.float32\n"
     ]
    },
    {
     "name": "stderr",
     "output_type": "stream",
     "text": [
      " 80%|███████▉  | 797/1000 [00:20<00:04, 45.25it/s]"
     ]
    },
    {
     "name": "stdout",
     "output_type": "stream",
     "text": [
      "torch.float32\n",
      "Loss type: torch.float32\n",
      "torch.float32\n",
      "Loss type: torch.float32\n",
      "torch.float32\n",
      "Loss type: torch.float32\n",
      "torch.float32\n",
      "Loss type: torch.float32\n",
      "torch.float32\n",
      "Loss type: torch.float32\n",
      "torch.float32\n",
      "Loss type: torch.float32\n",
      "torch.float32\n",
      "Loss type: torch.float32\n",
      "torch.float32\n",
      "Loss type: torch.float32\n",
      "torch.float32\n",
      "Loss type: torch.float32\n",
      "torch.float32\n",
      "Loss type: torch.float32\n",
      "torch.float32\n",
      "Loss type: torch.float32\n"
     ]
    },
    {
     "name": "stderr",
     "output_type": "stream",
     "text": [
      " 81%|████████  | 808/1000 [00:20<00:04, 41.13it/s]"
     ]
    },
    {
     "name": "stdout",
     "output_type": "stream",
     "text": [
      "torch.float32\n",
      "Loss type: torch.float32\n",
      "torch.float32\n",
      "Loss type: torch.float32\n",
      "torch.float32\n",
      "Loss type: torch.float32\n",
      "torch.float32\n",
      "Loss type: torch.float32\n",
      "torch.float32\n",
      "Loss type: torch.float32\n",
      "torch.float32\n",
      "Loss type: torch.float32\n",
      "torch.float32\n",
      "Loss type: torch.float32\n"
     ]
    },
    {
     "name": "stderr",
     "output_type": "stream",
     "text": [
      " 81%|████████▏ | 813/1000 [00:20<00:04, 41.11it/s]"
     ]
    },
    {
     "name": "stdout",
     "output_type": "stream",
     "text": [
      "torch.float32\n",
      "Loss type: torch.float32\n",
      "torch.float32\n",
      "Loss type: torch.float32\n",
      "torch.float32\n",
      "Loss type: torch.float32\n",
      "torch.float32\n",
      "Loss type: torch.float32\n",
      "torch.float32\n",
      "Loss type: torch.float32\n",
      "torch.float32\n",
      "Loss type: torch.float32\n",
      "torch.float32\n",
      "Loss type: torch.float32\n",
      "torch.float32\n",
      "Loss type: torch.float32\n",
      "torch.float32\n"
     ]
    },
    {
     "name": "stderr",
     "output_type": "stream",
     "text": [
      " 82%|████████▏ | 823/1000 [00:20<00:04, 43.95it/s]"
     ]
    },
    {
     "name": "stdout",
     "output_type": "stream",
     "text": [
      "Loss type: torch.float32\n",
      "torch.float32\n",
      "Loss type: torch.float32\n",
      "torch.float32\n",
      "Loss type: torch.float32\n",
      "torch.float32\n",
      "Loss type: torch.float32\n",
      "torch.float32\n",
      "Loss type: torch.float32\n",
      "torch.float32\n",
      "Loss type: torch.float32\n",
      "torch.float32\n",
      "Loss type: torch.float32\n",
      "torch.float32\n",
      "Loss type: torch.float32\n",
      "torch.float32\n",
      "Loss type: torch.float32\n",
      "torch.float32\n",
      "Loss type: torch.float32\n",
      "torch.float32\n",
      "Loss type: torch.float32\n",
      "torch.float32\n",
      "Loss type: torch.float32\n",
      "torch.float32\n"
     ]
    },
    {
     "name": "stderr",
     "output_type": "stream",
     "text": [
      " 84%|████████▎ | 836/1000 [00:21<00:03, 44.51it/s]"
     ]
    },
    {
     "name": "stdout",
     "output_type": "stream",
     "text": [
      "Loss type: torch.float32\n",
      "torch.float32\n",
      "Loss type: torch.float32\n",
      "torch.float32\n",
      "Loss type: torch.float32\n",
      "torch.float32\n",
      "Loss type: torch.float32\n",
      "torch.float32\n",
      "Loss type: torch.float32\n",
      "torch.float32\n",
      "Loss type: torch.float32\n",
      "torch.float32\n",
      "Loss type: torch.float32\n",
      "torch.float32\n",
      "Loss type: torch.float32\n",
      "torch.float32\n"
     ]
    },
    {
     "name": "stderr",
     "output_type": "stream",
     "text": [
      " 84%|████████▍ | 842/1000 [00:21<00:03, 46.41it/s]"
     ]
    },
    {
     "name": "stdout",
     "output_type": "stream",
     "text": [
      "Loss type: torch.float32\n",
      "torch.float32\n",
      "Loss type: torch.float32\n",
      "torch.float32\n",
      "Loss type: torch.float32\n",
      "torch.float32\n",
      "Loss type: torch.float32\n",
      "torch.float32\n",
      "Loss type: torch.float32\n",
      "torch.float32\n",
      "Loss type: torch.float32\n",
      "torch.float32\n",
      "Loss type: torch.float32\n"
     ]
    },
    {
     "name": "stderr",
     "output_type": "stream",
     "text": [
      " 85%|████████▍ | 847/1000 [00:21<00:04, 37.38it/s]"
     ]
    },
    {
     "name": "stdout",
     "output_type": "stream",
     "text": [
      "torch.float32\n",
      "Loss type: torch.float32\n",
      "torch.float32\n",
      "Loss type: torch.float32\n",
      "torch.float32\n",
      "Loss type: torch.float32\n",
      "torch.float32\n",
      "Loss type: torch.float32\n",
      "torch.float32\n"
     ]
    },
    {
     "name": "stderr",
     "output_type": "stream",
     "text": [
      " 85%|████████▌ | 852/1000 [00:21<00:05, 26.66it/s]"
     ]
    },
    {
     "name": "stdout",
     "output_type": "stream",
     "text": [
      "Loss type: torch.float32\n",
      "torch.float32\n",
      "Loss type: torch.float32\n",
      "torch.float32\n",
      "Loss type: torch.float32\n",
      "torch.float32\n",
      "Loss type: torch.float32\n",
      "torch.float32\n",
      "Loss type: torch.float32\n",
      "torch.float32\n",
      "Loss type: torch.float32\n",
      "torch.float32\n"
     ]
    },
    {
     "name": "stderr",
     "output_type": "stream",
     "text": [
      " 86%|████████▌ | 860/1000 [00:22<00:04, 29.11it/s]"
     ]
    },
    {
     "name": "stdout",
     "output_type": "stream",
     "text": [
      "Loss type: torch.float32\n",
      "torch.float32\n",
      "Loss type: torch.float32\n",
      "torch.float32\n",
      "Loss type: torch.float32\n",
      "torch.float32\n",
      "Loss type: torch.float32\n",
      "torch.float32\n",
      "Loss type: torch.float32\n",
      "torch.float32\n",
      "Loss type: torch.float32\n",
      "torch.float32\n",
      "Loss type: torch.float32\n",
      "torch.float32\n",
      "Loss type: torch.float32\n"
     ]
    },
    {
     "name": "stderr",
     "output_type": "stream",
     "text": [
      " 87%|████████▋ | 870/1000 [00:22<00:03, 35.96it/s]"
     ]
    },
    {
     "name": "stdout",
     "output_type": "stream",
     "text": [
      "torch.float32\n",
      "Loss type: torch.float32\n",
      "torch.float32\n",
      "Loss type: torch.float32\n",
      "torch.float32\n",
      "Loss type: torch.float32\n",
      "torch.float32\n",
      "Loss type: torch.float32\n",
      "torch.float32\n",
      "Loss type: torch.float32\n",
      "torch.float32\n",
      "Loss type: torch.float32\n",
      "torch.float32\n",
      "Loss type: torch.float32\n",
      "torch.float32\n",
      "Loss type: torch.float32\n",
      "torch.float32\n",
      "Loss type: torch.float32\n",
      "torch.float32\n"
     ]
    },
    {
     "name": "stderr",
     "output_type": "stream",
     "text": [
      " 88%|████████▊ | 881/1000 [00:22<00:02, 41.25it/s]"
     ]
    },
    {
     "name": "stdout",
     "output_type": "stream",
     "text": [
      "Loss type: torch.float32\n",
      "torch.float32\n",
      "Loss type: torch.float32\n",
      "torch.float32\n",
      "Loss type: torch.float32\n",
      "torch.float32\n",
      "Loss type: torch.float32\n",
      "torch.float32\n",
      "Loss type: torch.float32\n",
      "torch.float32\n",
      "Loss type: torch.float32\n",
      "torch.float32\n",
      "Loss type: torch.float32\n",
      "torch.float32\n",
      "Loss type: torch.float32\n",
      "torch.float32\n",
      "Loss type: torch.float32\n",
      "torch.float32\n",
      "Loss type: torch.float32\n",
      "torch.float32\n"
     ]
    },
    {
     "name": "stderr",
     "output_type": "stream",
     "text": [
      " 89%|████████▉ | 892/1000 [00:22<00:02, 46.06it/s]"
     ]
    },
    {
     "name": "stdout",
     "output_type": "stream",
     "text": [
      "Loss type: torch.float32\n",
      "torch.float32\n",
      "Loss type: torch.float32\n",
      "torch.float32\n",
      "Loss type: torch.float32\n",
      "torch.float32\n",
      "Loss type: torch.float32\n",
      "torch.float32\n",
      "Loss type: torch.float32\n",
      "torch.float32\n",
      "Loss type: torch.float32\n",
      "torch.float32\n",
      "Loss type: torch.float32\n",
      "torch.float32\n",
      "Loss type: torch.float32\n",
      "torch.float32\n",
      "Loss type: torch.float32\n",
      "torch.float32\n",
      "Loss type: torch.float32\n",
      "torch.float32\n",
      "Loss type: torch.float32\n",
      "torch.float32\n"
     ]
    },
    {
     "name": "stderr",
     "output_type": "stream",
     "text": [
      " 90%|████████▉ | 897/1000 [00:22<00:02, 46.37it/s]"
     ]
    },
    {
     "name": "stdout",
     "output_type": "stream",
     "text": [
      "Loss type: torch.float32\n",
      "torch.float32\n",
      "Loss type: torch.float32\n",
      "torch.float32\n",
      "Loss type: torch.float32\n",
      "torch.float32\n",
      "Loss type: torch.float32\n",
      "torch.float32\n",
      "Loss type: torch.float32\n",
      "torch.float32\n",
      "Loss type: torch.float32\n",
      "torch.float32\n",
      "Loss type: torch.float32\n",
      "torch.float32\n",
      "Loss type: torch.float32\n",
      "torch.float32\n",
      "Loss type: torch.float32\n",
      "torch.float32\n",
      "Loss type: torch.float32\n",
      "torch.float32\n"
     ]
    },
    {
     "name": "stderr",
     "output_type": "stream",
     "text": [
      " 91%|█████████ | 908/1000 [00:23<00:02, 45.23it/s]"
     ]
    },
    {
     "name": "stdout",
     "output_type": "stream",
     "text": [
      "Loss type: torch.float32\n",
      "torch.float32\n",
      "Loss type: torch.float32\n",
      "torch.float32\n",
      "Loss type: torch.float32\n",
      "torch.float32\n",
      "Loss type: torch.float32\n",
      "torch.float32\n",
      "Loss type: torch.float32\n",
      "torch.float32\n",
      "Loss type: torch.float32\n",
      "torch.float32\n",
      "Loss type: torch.float32\n",
      "torch.float32\n",
      "Loss type: torch.float32\n",
      "torch.float32\n",
      "Loss type: torch.float32\n",
      "torch.float32\n",
      "Loss type: torch.float32\n",
      "torch.float32\n"
     ]
    },
    {
     "name": "stderr",
     "output_type": "stream",
     "text": [
      " 92%|█████████▏| 921/1000 [00:23<00:01, 47.02it/s]"
     ]
    },
    {
     "name": "stdout",
     "output_type": "stream",
     "text": [
      "Loss type: torch.float32\n",
      "torch.float32\n",
      "Loss type: torch.float32\n",
      "torch.float32\n",
      "Loss type: torch.float32\n",
      "torch.float32\n",
      "Loss type: torch.float32\n",
      "torch.float32\n",
      "Loss type: torch.float32\n",
      "torch.float32\n",
      "Loss type: torch.float32\n",
      "torch.float32\n",
      "Loss type: torch.float32\n",
      "torch.float32\n",
      "Loss type: torch.float32\n",
      "torch.float32\n",
      "Loss type: torch.float32\n",
      "torch.float32\n",
      "Loss type: torch.float32\n"
     ]
    },
    {
     "name": "stderr",
     "output_type": "stream",
     "text": [
      " 93%|█████████▎| 926/1000 [00:23<00:01, 42.79it/s]"
     ]
    },
    {
     "name": "stdout",
     "output_type": "stream",
     "text": [
      "torch.float32\n",
      "Loss type: torch.float32\n",
      "torch.float32\n",
      "Loss type: torch.float32\n",
      "torch.float32\n",
      "Loss type: torch.float32\n",
      "torch.float32\n",
      "Loss type: torch.float32\n",
      "torch.float32\n",
      "Loss type: torch.float32\n",
      "torch.float32\n",
      "Loss type: torch.float32\n",
      "torch.float32\n",
      "Loss type: torch.float32\n"
     ]
    },
    {
     "name": "stderr",
     "output_type": "stream",
     "text": [
      " 94%|█████████▎| 935/1000 [00:23<00:01, 34.85it/s]"
     ]
    },
    {
     "name": "stdout",
     "output_type": "stream",
     "text": [
      "torch.float32\n",
      "Loss type: torch.float32\n",
      "torch.float32\n",
      "Loss type: torch.float32\n",
      "torch.float32\n",
      "Loss type: torch.float32\n",
      "torch.float32\n",
      "Loss type: torch.float32\n",
      "torch.float32\n",
      "Loss type: torch.float32\n",
      "torch.float32\n",
      "Loss type: torch.float32\n",
      "torch.float32\n",
      "Loss type: torch.float32\n",
      "torch.float32\n",
      "Loss type: torch.float32\n",
      "torch.float32\n"
     ]
    },
    {
     "name": "stderr",
     "output_type": "stream",
     "text": [
      " 94%|█████████▍| 943/1000 [00:24<00:02, 27.68it/s]"
     ]
    },
    {
     "name": "stdout",
     "output_type": "stream",
     "text": [
      "Loss type: torch.float32\n",
      "torch.float32\n",
      "Loss type: torch.float32\n",
      "torch.float32\n",
      "Loss type: torch.float32\n",
      "torch.float32\n",
      "Loss type: torch.float32\n",
      "torch.float32\n",
      "Loss type: torch.float32\n",
      "torch.float32\n",
      "Loss type: torch.float32\n",
      "torch.float32\n",
      "Loss type: torch.float32\n",
      "torch.float32\n",
      "Loss type: torch.float32\n",
      "torch.float32\n"
     ]
    },
    {
     "name": "stderr",
     "output_type": "stream",
     "text": [
      " 95%|█████████▌| 954/1000 [00:24<00:01, 36.15it/s]"
     ]
    },
    {
     "name": "stdout",
     "output_type": "stream",
     "text": [
      "Loss type: torch.float32\n",
      "torch.float32\n",
      "Loss type: torch.float32\n",
      "torch.float32\n",
      "Loss type: torch.float32\n",
      "torch.float32\n",
      "Loss type: torch.float32\n",
      "torch.float32\n",
      "Loss type: torch.float32\n",
      "torch.float32\n",
      "Loss type: torch.float32\n",
      "torch.float32\n",
      "Loss type: torch.float32\n",
      "torch.float32\n",
      "Loss type: torch.float32\n",
      "torch.float32\n",
      "Loss type: torch.float32\n",
      "torch.float32\n",
      "Loss type: torch.float32\n",
      "torch.float32\n"
     ]
    },
    {
     "name": "stderr",
     "output_type": "stream",
     "text": [
      " 96%|█████████▋| 965/1000 [00:24<00:00, 42.45it/s]"
     ]
    },
    {
     "name": "stdout",
     "output_type": "stream",
     "text": [
      "Loss type: torch.float32\n",
      "torch.float32\n",
      "Loss type: torch.float32\n",
      "torch.float32\n",
      "Loss type: torch.float32\n",
      "torch.float32\n",
      "Loss type: torch.float32\n",
      "torch.float32\n",
      "Loss type: torch.float32\n",
      "torch.float32\n",
      "Loss type: torch.float32\n",
      "torch.float32\n",
      "Loss type: torch.float32\n",
      "torch.float32\n",
      "Loss type: torch.float32\n",
      "torch.float32\n",
      "Loss type: torch.float32\n",
      "torch.float32\n",
      "Loss type: torch.float32\n",
      "torch.float32\n"
     ]
    },
    {
     "name": "stderr",
     "output_type": "stream",
     "text": [
      " 98%|█████████▊| 977/1000 [00:24<00:00, 48.40it/s]"
     ]
    },
    {
     "name": "stdout",
     "output_type": "stream",
     "text": [
      "Loss type: torch.float32\n",
      "torch.float32\n",
      "Loss type: torch.float32\n",
      "torch.float32\n",
      "Loss type: torch.float32\n",
      "torch.float32\n",
      "Loss type: torch.float32\n",
      "torch.float32\n",
      "Loss type: torch.float32\n",
      "torch.float32\n",
      "Loss type: torch.float32\n",
      "torch.float32\n",
      "Loss type: torch.float32\n",
      "torch.float32\n",
      "Loss type: torch.float32\n",
      "torch.float32\n",
      "Loss type: torch.float32\n",
      "torch.float32\n",
      "Loss type: torch.float32\n",
      "torch.float32\n",
      "Loss type: torch.float32\n",
      "torch.float32\n",
      "Loss type: torch.float32\n",
      "torch.float32\n"
     ]
    },
    {
     "name": "stderr",
     "output_type": "stream",
     "text": [
      " 98%|█████████▊| 983/1000 [00:24<00:00, 48.43it/s]"
     ]
    },
    {
     "name": "stdout",
     "output_type": "stream",
     "text": [
      "Loss type: torch.float32\n",
      "torch.float32\n",
      "Loss type: torch.float32\n",
      "torch.float32\n",
      "Loss type: torch.float32\n",
      "torch.float32\n",
      "Loss type: torch.float32\n",
      "torch.float32\n",
      "Loss type: torch.float32\n",
      "torch.float32\n",
      "Loss type: torch.float32\n",
      "torch.float32\n",
      "Loss type: torch.float32\n",
      "torch.float32\n",
      "Loss type: torch.float32\n",
      "torch.float32\n",
      "Loss type: torch.float32\n",
      "torch.float32\n",
      "Loss type: torch.float32\n"
     ]
    },
    {
     "name": "stderr",
     "output_type": "stream",
     "text": [
      " 99%|█████████▉| 993/1000 [00:25<00:00, 43.61it/s]"
     ]
    },
    {
     "name": "stdout",
     "output_type": "stream",
     "text": [
      "torch.float32\n",
      "Loss type: torch.float32\n",
      "torch.float32\n",
      "Loss type: torch.float32\n",
      "torch.float32\n",
      "Loss type: torch.float32\n",
      "torch.float32\n",
      "Loss type: torch.float32\n",
      "torch.float32\n",
      "Loss type: torch.float32\n",
      "torch.float32\n",
      "Loss type: torch.float32\n",
      "torch.float32\n",
      "Loss type: torch.float32\n",
      "torch.float32\n",
      "Loss type: torch.float32\n",
      "torch.float32\n"
     ]
    },
    {
     "name": "stderr",
     "output_type": "stream",
     "text": [
      "100%|██████████| 1000/1000 [00:25<00:00, 39.31it/s]"
     ]
    },
    {
     "name": "stdout",
     "output_type": "stream",
     "text": [
      "Loss type: torch.float32\n",
      "torch.float32\n",
      "Loss type: torch.float32\n",
      "torch.float32\n",
      "Loss type: torch.float32\n",
      "torch.float32\n",
      "Loss type: torch.float32\n",
      "torch.float32\n",
      "Loss type: torch.float32\n"
     ]
    },
    {
     "name": "stderr",
     "output_type": "stream",
     "text": [
      "\n"
     ]
    }
   ],
   "source": [
    "#Defining the training process\n",
    "loss_evolution = []\n",
    "\n",
    "for epoch in tqdm(range(n_epochs)):\n",
    "    #Let's start with a uniform distribution of the data \n",
    "    x = torch.FloatTensor(batch_size, 1).uniform_(x_domain[0], x_domain[1])\n",
    "    #We compute the loss\n",
    "    loss = diff_react_loss(x, params)\n",
    "    #Update the parameters with the functional optimizer\n",
    "    params = optimizer.step(loss, params)\n",
    "    #Keeping track of the loss\n",
    "    loss_evolution.append(float(loss))"
   ]
  },
  {
   "cell_type": "code",
   "execution_count": 85,
   "metadata": {},
   "outputs": [
    {
     "data": {
      "image/png": "[encoded data removed]",
      "text/plain": [
       "<Figure size 1000x600 with 1 Axes>"
      ]
     },
     "metadata": {},
     "output_type": "display_data"
    }
   ],
   "source": [
    "import matplotlib.pyplot as plt\n",
    "\n",
    "\n",
    "plt.figure(figsize=(10, 6))\n",
    "plt.plot(range(1, n_epochs + 1), loss_evolution, linestyle='-')\n",
    "plt.title('Loss Evolution Over Time')\n",
    "plt.xlabel('Epoch')\n",
    "plt.ylabel('Loss')\n",
    "plt.grid(True)\n",
    "plt.show()"
   ]
  }
 ],
 "metadata": {
  "kernelspec": {
   "display_name": "Python 3",
   "language": "python",
   "name": "python3"
  },
  "language_info": {
   "codemirror_mode": {
    "name": "ipython",
    "version": 3
   },
   "file_extension": ".py",
   "mimetype": "text/x-python",
   "name": "python",
   "nbconvert_exporter": "python",
   "pygments_lexer": "ipython3",
   "version": "3.11.2"
  }
 },
 "nbformat": 4,
 "nbformat_minor": 2
}
